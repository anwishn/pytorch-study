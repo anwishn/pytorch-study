{
 "cells": [
  {
   "cell_type": "code",
   "execution_count": 81,
   "id": "07cde7c9-6bdb-452c-ae3e-4b1637a189e2",
   "metadata": {},
   "outputs": [],
   "source": [
    "import torch\n",
    "import numpy as np"
   ]
  },
  {
   "cell_type": "code",
   "execution_count": 83,
   "id": "c3953463-7938-4442-9e6d-8e5a7325176c",
   "metadata": {},
   "outputs": [],
   "source": [
    "def f(x):\n",
    "    temp = (x[0]-3)**2 + 2.4*(x[1]-5)**2 +10\n",
    "    return temp"
   ]
  },
  {
   "cell_type": "code",
   "execution_count": 85,
   "id": "7d3f800f-8ac8-4551-93fb-7b64a7445d97",
   "metadata": {},
   "outputs": [],
   "source": [
    "def grad_f(x):\n",
    "    temp = torch.tensor([2*(x[0]-3), 4.8*(x[1]-5)])\n",
    "    return temp"
   ]
  },
  {
   "cell_type": "code",
   "execution_count": 87,
   "id": "3a9dd7d4-a448-4711-9e2e-afd9a9948bc6",
   "metadata": {},
   "outputs": [
    {
     "name": "stdout",
     "output_type": "stream",
     "text": [
      "x= tensor([7., 3.])     and corresponding f(x)= tensor(35.6000)\n",
      "x= tensor([6.2000, 3.9600])     and corresponding f(x)= tensor(22.8358)\n",
      "x= tensor([5.5600, 4.4592])     and corresponding f(x)= tensor(17.2555)\n",
      "x= tensor([5.0480, 4.7188])     and corresponding f(x)= tensor(14.3841)\n",
      "x= tensor([4.6384, 4.8538])     and corresponding f(x)= tensor(12.7357)\n",
      "x= tensor([4.3107, 4.9240])     and corresponding f(x)= tensor(11.7319)\n",
      "x= tensor([4.0486, 4.9605])     and corresponding f(x)= tensor(11.1033)\n",
      "x= tensor([3.8389, 4.9794])     and corresponding f(x)= tensor(10.7047)\n",
      "x= tensor([3.6711, 4.9893])     and corresponding f(x)= tensor(10.4506)\n",
      "x= tensor([3.5369, 4.9944])     and corresponding f(x)= tensor(10.2883)\n",
      "x= tensor([3.4295, 4.9971])     and corresponding f(x)= tensor(10.1845)\n",
      "x= tensor([3.3436, 4.9985])     and corresponding f(x)= tensor(10.1181)\n",
      "x= tensor([3.2749, 4.9992])     and corresponding f(x)= tensor(10.0756)\n",
      "x= tensor([3.2199, 4.9996])     and corresponding f(x)= tensor(10.0484)\n",
      "x= tensor([3.1759, 4.9998])     and corresponding f(x)= tensor(10.0309)\n",
      "x= tensor([3.1407, 4.9999])     and corresponding f(x)= tensor(10.0198)\n",
      "x= tensor([3.1126, 4.9999])     and corresponding f(x)= tensor(10.0127)\n",
      "x= tensor([3.0901, 5.0000])     and corresponding f(x)= tensor(10.0081)\n",
      "x= tensor([3.0721, 5.0000])     and corresponding f(x)= tensor(10.0052)\n",
      "x= tensor([3.0576, 5.0000])     and corresponding f(x)= tensor(10.0033)\n",
      "x= tensor([3.0461, 5.0000])     and corresponding f(x)= tensor(10.0021)\n",
      "x= tensor([3.0369, 5.0000])     and corresponding f(x)= tensor(10.0014)\n",
      "x= tensor([3.0295, 5.0000])     and corresponding f(x)= tensor(10.0009)\n",
      "x= tensor([3.0236, 5.0000])     and corresponding f(x)= tensor(10.0006)\n",
      "x= tensor([3.0189, 5.0000])     and corresponding f(x)= tensor(10.0004)\n",
      "x= tensor([3.0151, 5.0000])     and corresponding f(x)= tensor(10.0002)\n",
      "x= tensor([3.0121, 5.0000])     and corresponding f(x)= tensor(10.0001)\n",
      "x= tensor([3.0097, 5.0000])     and corresponding f(x)= tensor(10.0001)\n",
      "x= tensor([3.0077, 5.0000])     and corresponding f(x)= tensor(10.0001)\n",
      "x= tensor([3.0062, 5.0000])     and corresponding f(x)= tensor(10.0000)\n",
      "x= tensor([3.0050, 5.0000])     and corresponding f(x)= tensor(10.0000)\n"
     ]
    }
   ],
   "source": [
    "history = [] # learning curve 확인하고자\n",
    "lr = 0.1\n",
    "\n",
    "x = torch.tensor([7.0, 3.0])\n",
    "print(\"x=\",x, \"    and corresponding f(x)=\", f(x))\n",
    "history.append(f(x))\n",
    "for i in range(30):  # (3,5)에 가까워지는 것 확인 가능\n",
    "    x -= lr * grad_f(x)\n",
    "    print(\"x=\",x, \"    and corresponding f(x)=\", f(x))\n",
    "    history.append(f(x))"
   ]
  },
  {
   "cell_type": "code",
   "execution_count": 89,
   "id": "be27d59c-b1ec-471c-947f-5e8c00ef3f14",
   "metadata": {},
   "outputs": [
    {
     "data": {
      "text/plain": [
       "[<matplotlib.lines.Line2D at 0x1242e129490>]"
      ]
     },
     "execution_count": 89,
     "metadata": {},
     "output_type": "execute_result"
    },
    {
     "data": {
      "image/png": "[encoded data removed]",
      "text/plain": [
       "<Figure size 640x480 with 1 Axes>"
      ]
     },
     "metadata": {},
     "output_type": "display_data"
    }
   ],
   "source": [
    "import matplotlib.pyplot as plt\n",
    "plt.plot(history) # 더 훈련횟수 늘려 중간부터 확인해보면 수렴하는 것 확인 가능"
   ]
  },
  {
   "cell_type": "markdown",
   "id": "6258a9bd-2a66-4b0d-8871-099d605a4a3e",
   "metadata": {},
   "source": [
    "* Caution 1: you cannot calculate ```y.backward()``` again.\n",
    "* Caution 2: If you calculate ```y=2*x**3 _x``` and calculate ```y.backward()``` again, then derivatives are accumumated."
   ]
  },
  {
   "cell_type": "code",
   "execution_count": 92,
   "id": "e5617936-ce02-4050-91f6-74e1905b2cab",
   "metadata": {},
   "outputs": [
    {
     "data": {
      "text/plain": [
       "tensor(7.)"
      ]
     },
     "execution_count": 92,
     "metadata": {},
     "output_type": "execute_result"
    }
   ],
   "source": [
    "x = torch.tensor(1.0, requires_grad=True)\n",
    "y = 2 * x**3 + x\n",
    "y.backward()\n",
    "x.grad"
   ]
  },
  {
   "cell_type": "code",
   "execution_count": 94,
   "id": "33e8cf06-dc9d-44f1-89ce-acbfa60def37",
   "metadata": {},
   "outputs": [
    {
     "data": {
      "text/plain": [
       "tensor(14.)"
      ]
     },
     "execution_count": 94,
     "metadata": {},
     "output_type": "execute_result"
    }
   ],
   "source": [
    "y = 2 * x**3 + x\n",
    "y.backward()\n",
    "x.grad # 7+7 # derivative is doubled => x를 다시 선언해주면 돼"
   ]
  },
  {
   "cell_type": "markdown",
   "id": "118adb45-ab60-4c24-9761-1df108226e18",
   "metadata": {},
   "source": [
    "* How to avoid the accumulation of derivatives? => Use `x.grad=None`."
   ]
  },
  {
   "cell_type": "code",
   "execution_count": 97,
   "id": "840eaea3-a72f-43e0-9994-5503f0f0f121",
   "metadata": {},
   "outputs": [
    {
     "name": "stdout",
     "output_type": "stream",
     "text": [
      "tensor(7.)\n",
      "tensor(7.)\n"
     ]
    }
   ],
   "source": [
    "x = torch.tensor(1.0, requires_grad=True)\n",
    "y = 2 * x**3 + x\n",
    "y.backward()\n",
    "print(x.grad)\n",
    "y = 2 * x**3 + x\n",
    "\n",
    "# grad를 다시 초기화해주면 backward 다시 실행할 수 있어!\n",
    "x.grad=None\n",
    "y.backward()\n",
    "print(x.grad)"
   ]
  },
  {
   "cell_type": "markdown",
   "id": "89ab141f-eb54-4531-b3aa-ee4c9e563925",
   "metadata": {},
   "source": [
    "* Ex) Calculate $\\frac{d}{d x} \\cos(x)$ at $x=\\pi/3$."
   ]
  },
  {
   "cell_type": "code",
   "execution_count": 100,
   "id": "3c508da5-3598-4fc0-b014-3d984da41abb",
   "metadata": {},
   "outputs": [
    {
     "data": {
      "text/plain": [
       "tensor([-0.8660])"
      ]
     },
     "execution_count": 100,
     "metadata": {},
     "output_type": "execute_result"
    }
   ],
   "source": [
    "x = torch.tensor([torch.pi/3], requires_grad=True)\n",
    "y = torch.cos(x)\n",
    "y.backward()\n",
    "x.grad"
   ]
  },
  {
   "cell_type": "markdown",
   "id": "c2e90ee6-84a2-4509-9a3f-8298723cda1d",
   "metadata": {},
   "source": [
    "* `requires_grads=True`인 tensor는 tensor를 바로 .numpy() 로 변환 불가능  \n",
    "* `.detach().numpy()` 로 변환 가능"
   ]
  },
  {
   "cell_type": "code",
   "execution_count": 103,
   "id": "b337d668-689e-4047-8f3b-3584dd8242dd",
   "metadata": {},
   "outputs": [
    {
     "name": "stdout",
     "output_type": "stream",
     "text": [
      "tensor([ 1.,  2.,  3., 12.])\n",
      "[ 1.  2.  3. 12.]\n"
     ]
    },
    {
     "data": {
      "text/plain": [
       "array([ 1.,  2.,  3., 12.], dtype=float32)"
      ]
     },
     "execution_count": 103,
     "metadata": {},
     "output_type": "execute_result"
    }
   ],
   "source": [
    "a = torch.tensor([1.0,2.0,3.0,12.0])\n",
    "b = a.numpy()\n",
    "print(a)\n",
    "print(b)\n",
    "b"
   ]
  },
  {
   "cell_type": "code",
   "execution_count": 105,
   "id": "591cedda-0397-45b2-8713-1d1a32c33e77",
   "metadata": {},
   "outputs": [
    {
     "data": {
      "text/plain": [
       "6.0"
      ]
     },
     "execution_count": 105,
     "metadata": {},
     "output_type": "execute_result"
    }
   ],
   "source": [
    "x = torch.tensor([1.0, 2.0, 3.0], requires_grad=True)\n",
    "\n",
    "# np.sum(x) # error\n",
    "np.sum(x.detach().numpy())"
   ]
  },
  {
   "cell_type": "markdown",
   "id": "8bd88c63-179b-4f41-a405-79ea8ca1dcf5",
   "metadata": {},
   "source": [
    "* Ex)\n",
    "$y=\\exp(2x_1)+x_2^2$.\n",
    "\n",
    "Calculate $\\triangledown y = \\left( \\frac{\\delta y}{\\delta x_1},\n",
    "\\frac{\\delta y}{\\delta x_2} \\right)$ at $x_1=1.0$ and $x_2=2.0$."
   ]
  },
  {
   "cell_type": "code",
   "execution_count": 112,
   "id": "f1af9eff-2a25-405e-a251-ba4a5338d8ea",
   "metadata": {},
   "outputs": [
    {
     "data": {
      "text/plain": [
       "tensor([14.7781,  4.0000])"
      ]
     },
     "execution_count": 112,
     "metadata": {},
     "output_type": "execute_result"
    }
   ],
   "source": [
    "x = torch.tensor([1.0, 2.0], requires_grad=True)\n",
    "y = torch.exp(2*x[0]) + x[1]**2\n",
    "y.backward()\n",
    "x.grad"
   ]
  },
  {
   "cell_type": "markdown",
   "id": "15d06151-8684-4479-a264-508d42fd0fc7",
   "metadata": {},
   "source": [
    "# Gradient Descent with Pytorch"
   ]
  },
  {
   "cell_type": "markdown",
   "id": "0c6f088d-eb17-45a5-a9c8-69758a6e1d02",
   "metadata": {},
   "source": [
    "You want to minimize the following function using gradient descent algorithm.\n",
    "\n",
    "$f(x_1, x_2)=(x_1-3)^2 +2.4(x_2-5)^2 +10$.\n",
    "\n",
    "Your algorithm for the gradneitn descent algorithm is as follows with learning rate lr$=0.1$.\n",
    "\n",
    "1. Let's start with $x^{[0]}=(x_1^{[0]}, x_2^{[0]})=(7.0, 3.0)$.\n",
    "\n",
    "2. Update  $x^{[1]} = x^{[0]} - {\\rm lr} \\cdot \\triangledown f(x^{[0]})$\n",
    "\n",
    "3. Keep updating until converge"
   ]
  },
  {
   "cell_type": "code",
   "execution_count": 338,
   "id": "7a9aaeca-0043-4745-afdf-b7d1cd639be7",
   "metadata": {},
   "outputs": [
    {
     "name": "stdout",
     "output_type": "stream",
     "text": [
      "tensor([7., 3.])\n"
     ]
    },
    {
     "data": {
      "text/plain": [
       "tensor([6.2000, 3.9600])"
      ]
     },
     "execution_count": 338,
     "metadata": {},
     "output_type": "execute_result"
    }
   ],
   "source": [
    "lr = 0.1\n",
    "x = torch.tensor([7.0, 3.0], requires_grad=True)\n",
    "y = (x[0]-3)**2+2.4*(x[1]-5)**2+10\n",
    "y.backward()\n",
    "print(x.data)\n",
    "x.data = x.data - lr * x.grad\n",
    "x.data"
   ]
  },
  {
   "cell_type": "code",
   "execution_count": 340,
   "id": "40f68c10-6fe3-4215-8141-e8c5c9de0f73",
   "metadata": {},
   "outputs": [
    {
     "data": {
      "text/plain": [
       "tensor([5.5600, 4.4592])"
      ]
     },
     "execution_count": 340,
     "metadata": {},
     "output_type": "execute_result"
    }
   ],
   "source": [
    "# 계속 반복\n",
    "y = (x[0]-3)**2+2.4*(x[1]-5)**2+10\n",
    "x.grad = None\n",
    "y.backward()\n",
    "x.data = x.data - lr * x.grad\n",
    "x.data"
   ]
  },
  {
   "cell_type": "code",
   "execution_count": 342,
   "id": "3ccf249e-cb57-43e7-9524-763c9b9d632f",
   "metadata": {},
   "outputs": [],
   "source": [
    "x = torch.tensor([7.0, 3.0], requires_grad=True)\n",
    "y = (x[0]-3)**2+2.4*(x[1]-5)**2+10"
   ]
  },
  {
   "cell_type": "code",
   "execution_count": 344,
   "id": "e0b51c06-df4e-4c09-be1a-4ce16239d8e7",
   "metadata": {},
   "outputs": [],
   "source": [
    "epochs=30\n",
    "history = []\n",
    "lr = 0.1\n",
    "\n",
    "for epoch in range(epochs):\n",
    "  x.grad=None\n",
    "  y = (x[0]-3)**2+2.4*(x[1]-5)**2+10 # loss ftn 계산\n",
    "  y.backward() # backward 하기 전에 grad 비워줘야해!\n",
    "  x.data = x.data - lr * x.grad # 수렴하기\n",
    "  history.append(y.item()) # y를 numpy로 바꿔주어야 plot 가능해"
   ]
  },
  {
   "cell_type": "code",
   "execution_count": 346,
   "id": "c55c936d-f323-4a03-b08f-b9ef0707fca2",
   "metadata": {},
   "outputs": [
    {
     "data": {
      "text/plain": [
       "[<matplotlib.lines.Line2D at 0x1243021cda0>]"
      ]
     },
     "execution_count": 346,
     "metadata": {},
     "output_type": "execute_result"
    },
    {
     "data": {
      "image/png": "[encoded data removed]",
      "text/plain": [
       "<Figure size 640x480 with 1 Axes>"
      ]
     },
     "metadata": {},
     "output_type": "display_data"
    }
   ],
   "source": [
    "plt.plot(history)"
   ]
  },
  {
   "cell_type": "code",
   "execution_count": 348,
   "id": "7df76be4-aff4-49ce-b13c-1dacb55f453b",
   "metadata": {},
   "outputs": [
    {
     "data": {
      "text/plain": [
       "tensor([3.0050, 5.0000])"
      ]
     },
     "execution_count": 348,
     "metadata": {},
     "output_type": "execute_result"
    }
   ],
   "source": [
    "x.data"
   ]
  },
  {
   "cell_type": "markdown",
   "id": "3fbcc509-16c1-4d68-afc6-80a6c5ed754e",
   "metadata": {},
   "source": [
    "* Ex) You want to derive the solution of the following equation\n",
    "\n",
    "$0=x^2+2x+1$\n",
    "\n",
    "using optimization. Answer the following questions.\n",
    "\n",
    "1. Write the proper loss function.\n",
    "2. Use gradient descent algorighm to find the solution of the optimization problem"
   ]
  },
  {
   "cell_type": "code",
   "execution_count": 351,
   "id": "15747ab8-abbd-4314-af9c-47087a3221a2",
   "metadata": {},
   "outputs": [],
   "source": [
    "# loss = ((x**2 + 2*x) - (-1))**2 = (x**2 + 2*x + 1)**2"
   ]
  },
  {
   "cell_type": "code",
   "execution_count": 353,
   "id": "e53bee93-35f2-4ef5-8b40-4955775e6bb3",
   "metadata": {},
   "outputs": [],
   "source": [
    "lr = 0.01\n",
    "epoch = 100\n",
    "history = []\n",
    "\n",
    "x = torch.tensor([3.0], requires_grad=True)\n",
    "for i in range(epoch):\n",
    "    y = (x**2 + 2*x + 1)**2  # loss ftn 계산\n",
    "    x.grad = None # grad 비워주고\n",
    "    y.backward() # derivative 계산\n",
    "    x.data = x.data - lr * x.grad  # gradient descent\n",
    "    history.append(y.item())"
   ]
  },
  {
   "cell_type": "code",
   "execution_count": 355,
   "id": "588f1060-bb6e-4bb2-8abc-b50fc0c31878",
   "metadata": {},
   "outputs": [
    {
     "data": {
      "text/plain": [
       "[<matplotlib.lines.Line2D at 0x1243027d400>]"
      ]
     },
     "execution_count": 355,
     "metadata": {},
     "output_type": "execute_result"
    },
    {
     "data": {
      "image/png": "[encoded data removed]",
      "text/plain": [
       "<Figure size 640x480 with 1 Axes>"
      ]
     },
     "metadata": {},
     "output_type": "display_data"
    }
   ],
   "source": [
    "plt.plot(history)"
   ]
  },
  {
   "cell_type": "markdown",
   "id": "dfb0defa-dcc9-4ca9-b812-d2c2866e481c",
   "metadata": {},
   "source": [
    "# Stochastic Gradient Descent\n",
    "* Simple linear regression with \"full batch\" gradient descent."
   ]
  },
  {
   "cell_type": "markdown",
   "id": "ded1e13d-3f25-49a1-9f26-f668704fa9fc",
   "metadata": {},
   "source": [
    "You are given $X$ and $Y$. Using the linear regression, you want to have the following model\n",
    "\n",
    "$\\widehat{Y}=\\widehat{\\beta}_0+\\widehat{\\beta}_1X$\n",
    "\n",
    "by minimizing the following square loss\n",
    "\n",
    "$$L_n(\\beta)=\\frac{1}{n}\\sum\\limits_{i=1}^{n}(y_i-\\widehat{y}_i)^2$$\n",
    "\n",
    "where $\\widehat{y}_i = \\beta_0+\\beta_1 x_i$ and $n=20$.\n",
    "\n",
    "\n",
    "Follow the following steps to do linear regression.\n",
    "\n",
    "1. Reshape $X$ into the shape of $[20,2]$ and name it as $XX$.\n",
    "\n",
    "2. Using, `torch.tensor`, define $\\beta:=(\\beta_0, \\beta_1)$ ready to calculate derivatives.\n",
    "\n",
    "3. Define $\\widehat{Y}$ of size $[20,1]$ using $XX$ and $\\beta$.\n",
    "\n",
    "4. Then, using gradient descent, find $\\widehat{\\beta}$ which minimizes $L_n(\\beta)$.\n",
    "\n",
    "5. Track the learning process.\n",
    "\n",
    "\n"
   ]
  },
  {
   "cell_type": "code",
   "execution_count": 359,
   "id": "65097dbe-c252-49ca-842b-9c9746fe7380",
   "metadata": {},
   "outputs": [],
   "source": [
    "X=torch.tensor([-3.0000e+00, -2.7000e+00, -2.4000e+00, -2.1000e+00, -1.8000e+00,\n",
    "        -1.5000e+00, -1.2000e+00, -9.0000e-01, -6.0000e-01, -3.0000e-01,\n",
    "        -2.3842e-08,  3.0000e-01,  6.0000e-01,  9.0000e-01,  1.2000e+00,\n",
    "         1.5000e+00,  1.8000e+00,  2.1000e+00,  2.4000e+00,  2.7000e+00])"
   ]
  },
  {
   "cell_type": "code",
   "execution_count": 361,
   "id": "af5bbf3a-17c8-4c59-b7d7-eec9fccd9147",
   "metadata": {},
   "outputs": [],
   "source": [
    "Y = torch.tensor([-7.1452, -5.4253, -5.1977, -3.6225, -3.8022, -4.4101, -4.6622, -3.1932,\n",
    "        -1.7325, -1.8879, -1.0742, -0.2320,  1.8226,  1.5453, -1.5535,  0.8857,\n",
    "         1.7537,  3.1607,  1.8912,  4.0895])"
   ]
  },
  {
   "cell_type": "code",
   "execution_count": 363,
   "id": "610ce56c-e329-486c-95ee-2511aaa5b070",
   "metadata": {},
   "outputs": [
    {
     "name": "stdout",
     "output_type": "stream",
     "text": [
      "torch.Size([20])\n"
     ]
    },
    {
     "data": {
      "text/plain": [
       "torch.Size([20, 2])"
      ]
     },
     "execution_count": 363,
     "metadata": {},
     "output_type": "execute_result"
    }
   ],
   "source": [
    "# 1\n",
    "print(X.shape)\n",
    "ones = torch.ones([20])\n",
    "XX = torch.stack([ones, X ], axis=1) # 차원 늘리기 -> torch.stack\n",
    "XX.shape"
   ]
  },
  {
   "cell_type": "code",
   "execution_count": 365,
   "id": "e7307bb8-c292-4516-ab1e-b75f9bf7090f",
   "metadata": {},
   "outputs": [],
   "source": [
    "# 2\n",
    "beta = torch.tensor([[5],\n",
    "                     [1.0]], requires_grad=True)"
   ]
  },
  {
   "cell_type": "code",
   "execution_count": 367,
   "id": "fe1d6a1d-626e-426e-83a2-2b62e065e8e8",
   "metadata": {},
   "outputs": [],
   "source": [
    "# 3\n",
    "Yhat = XX @ beta # [20,2] @ [2,1]\n",
    "Y = Y.reshape([-1,1])\n",
    "Loss = torch.mean((Y - Yhat) **2)  # Y : [20,], Yhat : [20,1] -> Y가 broadcasting되어 (1,20)이 될 것임.\n",
    "Loss.backward()\n",
    "beta.data = beta.data - lr * beta.grad"
   ]
  },
  {
   "cell_type": "code",
   "execution_count": 369,
   "id": "31301713-4dd2-4b86-ae54-6a87b000160b",
   "metadata": {},
   "outputs": [],
   "source": [
    "# 반복문에 넣기 (여기서부터 최종)\n",
    "X=torch.tensor([-3.0000e+00, -2.7000e+00, -2.4000e+00, -2.1000e+00, -1.8000e+00,\n",
    "        -1.5000e+00, -1.2000e+00, -9.0000e-01, -6.0000e-01, -3.0000e-01,\n",
    "        -2.3842e-08,  3.0000e-01,  6.0000e-01,  9.0000e-01,  1.2000e+00,\n",
    "         1.5000e+00,  1.8000e+00,  2.1000e+00,  2.4000e+00,  2.7000e+00])"
   ]
  },
  {
   "cell_type": "code",
   "execution_count": 371,
   "id": "c143a246-a754-4ade-a710-28b10f8fb6a2",
   "metadata": {},
   "outputs": [],
   "source": [
    "Y = torch.tensor([-7.1452, -5.4253, -5.1977, -3.6225, -3.8022, -4.4101, -4.6622, -3.1932,\n",
    "        -1.7325, -1.8879, -1.0742, -0.2320,  1.8226,  1.5453, -1.5535,  0.8857,\n",
    "         1.7537,  3.1607,  1.8912,  4.0895]).reshape([-1,1])"
   ]
  },
  {
   "cell_type": "code",
   "execution_count": 373,
   "id": "ffc4d2b8-5290-4923-a9c1-1b6cb582c9da",
   "metadata": {},
   "outputs": [],
   "source": [
    "ones = torch.ones([20])\n",
    "XX = torch.stack([ones, X], axis=1) # [20,2]"
   ]
  },
  {
   "cell_type": "code",
   "execution_count": 375,
   "id": "47b2fab6-5008-4afd-8f1c-ef2dec9dbf0a",
   "metadata": {},
   "outputs": [],
   "source": [
    "lr = 0.1\n",
    "epochs = 30\n",
    "history = []\n",
    "beta = torch.tensor([[5],\n",
    "                     [1.0]], requires_grad=True) # [2,1]\n",
    "\n",
    "for epoch in range(epochs):\n",
    "    Yhat = XX @ beta # [20,1]\n",
    "    Loss = torch.mean((Y - Yhat) **2) # Y도 [20,1]로 맞춰주기\n",
    "    history.append(Loss.item()) # 어디든 들어가도 \n",
    "    beta.grad=None # backward 전에 넣어줘야해!! 아주 중요\n",
    "    Loss.backward()\n",
    "    beta.data = beta.data - lr * beta.grad # 1번의 epoch에서 data 20개로 30번의 gradient descent가 일어난다"
   ]
  },
  {
   "cell_type": "code",
   "execution_count": 377,
   "id": "1850b626-11a0-4046-9521-cb615d8756cf",
   "metadata": {},
   "outputs": [
    {
     "data": {
      "text/plain": [
       "[<matplotlib.lines.Line2D at 0x124313f9df0>]"
      ]
     },
     "execution_count": 377,
     "metadata": {},
     "output_type": "execute_result"
    },
    {
     "data": {
      "image/png": "[encoded data removed]",
      "text/plain": [
       "<Figure size 640x480 with 1 Axes>"
      ]
     },
     "metadata": {},
     "output_type": "display_data"
    }
   ],
   "source": [
    "plt.plot(history)"
   ]
  },
  {
   "cell_type": "code",
   "execution_count": 379,
   "id": "f2b8426a-fe1e-472f-b494-73b864eaa31b",
   "metadata": {},
   "outputs": [
    {
     "data": {
      "text/plain": [
       "tensor([[-1.1741],\n",
       "        [ 1.7155]])"
      ]
     },
     "execution_count": 379,
     "metadata": {},
     "output_type": "execute_result"
    }
   ],
   "source": [
    "beta.data"
   ]
  },
  {
   "cell_type": "markdown",
   "id": "3f3ce9e7-9147-4c88-bb15-4495f922e295",
   "metadata": {},
   "source": [
    "* Simple linear regression with \"minibatch\" gradient descent."
   ]
  },
  {
   "cell_type": "code",
   "execution_count": 382,
   "id": "04f1606a-d022-46d0-b188-7d80f73e5bc7",
   "metadata": {},
   "outputs": [],
   "source": [
    "import torch\n",
    "from torch.utils.data import DataLoader\n",
    "from torch.utils.data import TensorDataset\n",
    "\n",
    "dataset = TensorDataset(XX,Y)\n",
    "trainloader=DataLoader(dataset = dataset, batch_size=5, shuffle=True)"
   ]
  },
  {
   "cell_type": "code",
   "execution_count": 390,
   "id": "2ae8c7ba-371d-4bb7-98dc-0be1cc468d22",
   "metadata": {},
   "outputs": [],
   "source": [
    "lr = 0.1\n",
    "epochs = 30\n",
    "history = []\n",
    "beta = torch.tensor([[5],\n",
    "                     [1.0]], requires_grad=True) # [2,1]\n",
    "\n",
    "for epoch in range(epochs):\n",
    "    for xx, yy in trainloader:\n",
    "        yhat = xx @ beta # [5,1] # batch_size인 5개씩 한 묶음\n",
    "        loss = torch.mean((yy - yhat) **2) \n",
    "        history.append(loss.item()) \n",
    "        beta.grad=None # backward 전에 넣어줘야해!! 아주 중요\n",
    "        loss.backward()\n",
    "        beta.data = beta.data - lr * beta.grad\n",
    "    Yhat = XX @ beta\n",
    "    LOSS = torch.mean((Y - Yhat)**2) # 20개 데이터로 구한 LOSS\n",
    "    history.append(LOSS.item()) \n",
    "\n",
    "# 1 epoch에서 5개의 데이터로 4번의 gradient descent가 일어난다\n",
    "# 30 epoch => 4*30 = 120번"
   ]
  },
  {
   "cell_type": "code",
   "execution_count": 392,
   "id": "fae297e3-2ac7-4069-98c5-0b1736b49c59",
   "metadata": {},
   "outputs": [
    {
     "data": {
      "text/plain": [
       "[<matplotlib.lines.Line2D at 0x12431432ba0>]"
      ]
     },
     "execution_count": 392,
     "metadata": {},
     "output_type": "execute_result"
    },
    {
     "data": {
      "image/png": "[encoded data removed]",
      "text/plain": [
       "<Figure size 640x480 with 1 Axes>"
      ]
     },
     "metadata": {},
     "output_type": "display_data"
    }
   ],
   "source": [
    "plt.plot(history)"
   ]
  },
  {
   "cell_type": "code",
   "execution_count": 394,
   "id": "e3ecb799-7a5b-4a46-a15a-786c692a879f",
   "metadata": {},
   "outputs": [
    {
     "data": {
      "text/plain": [
       "tensor([[-1.2011],\n",
       "        [ 1.7412]])"
      ]
     },
     "execution_count": 394,
     "metadata": {},
     "output_type": "execute_result"
    }
   ],
   "source": [
    "beta.data"
   ]
  }
 ],
 "metadata": {
  "kernelspec": {
   "display_name": "Python 3 (ipykernel)",
   "language": "python",
   "name": "python3"
  },
  "language_info": {
   "codemirror_mode": {
    "name": "ipython",
    "version": 3
   },
   "file_extension": ".py",
   "mimetype": "text/x-python",
   "name": "python",
   "nbconvert_exporter": "python",
   "pygments_lexer": "ipython3",
   "version": "3.12.7"
  }
 },
 "nbformat": 4,
 "nbformat_minor": 5
}
