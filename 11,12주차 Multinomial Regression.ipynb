{
 "cells": [
  {
   "cell_type": "markdown",
   "id": "da0d5a9f-1278-43f5-87ca-7c780cdcb85e",
   "metadata": {},
   "source": [
    "Suppose that we are working with some doctors on heart attack patients. The dependent variable is whether the patient has had a second heart attack ($Y$)within 1 year (yes = 1). We have two independent variables, one is whether the patient completed a treatment consistent of anger control practices ($x_1$) (yes=1). The other is a score on a trait anxiety scale ($x_2$) (a higher score means more anxious). You want to model\n",
    "\n",
    "$Y\\sim {\\rm Ber}(p_i)$\n",
    "\n",
    "where $p_i=\\sigma(x_iW+b)$ with $W=\n",
    "\\left(\\begin{matrix}\n",
    "W_1\\\\\n",
    "W_2\n",
    "\\end{matrix}\\right).\n",
    "$\n",
    "\n",
    "Answer the following problems:\n",
    "\n",
    "1. Transform `Y` into `T` with one-hot encoding.\n",
    "\n",
    "2. Build the model which best describe the heart attack mechanism. You may want to standardize the explanatory variables before define the model.\n",
    "\n",
    "3. In the model, make the probability function `Q`, then train the logistic model.\n",
    "\n",
    "4. Calculate the train accuracy of the model.\n",
    "\n",
    "<img src=\"https://drive.google.com/uc?id=1BJMmWmeDUJFXis6nc7X7Sd6o832B1_OC\" height=\"600\" width=\"400\">"
   ]
  },
  {
   "cell_type": "code",
   "execution_count": 23,
   "id": "bee1399f-2f78-48f8-9180-701b01c21705",
   "metadata": {},
   "outputs": [
    {
     "data": {
      "text/plain": [
       "array([[ 1.,  1., 70.],\n",
       "       [ 1.,  1., 80.],\n",
       "       [ 1.,  1., 50.],\n",
       "       [ 1.,  0., 60.],\n",
       "       [ 1.,  0., 40.],\n",
       "       [ 1.,  0., 65.],\n",
       "       [ 1.,  0., 75.],\n",
       "       [ 1.,  0., 80.],\n",
       "       [ 1.,  0., 70.],\n",
       "       [ 1.,  0., 60.],\n",
       "       [ 0.,  1., 65.],\n",
       "       [ 0.,  1., 50.],\n",
       "       [ 0.,  1., 45.],\n",
       "       [ 0.,  1., 35.],\n",
       "       [ 0.,  1., 40.],\n",
       "       [ 0.,  1., 50.],\n",
       "       [ 0.,  0., 55.],\n",
       "       [ 0.,  0., 45.],\n",
       "       [ 0.,  0., 50.],\n",
       "       [ 0.,  0., 60.]], dtype=float32)"
      ]
     },
     "execution_count": 23,
     "metadata": {},
     "output_type": "execute_result"
    }
   ],
   "source": [
    "import numpy as np\n",
    "import torch\n",
    "import matplotlib.pyplot as plt\n",
    "from torch.utils.data import Dataset, DataLoader, TensorDataset\n",
    "data = np.array([[1,1,70], [1,1,80], [1,1,50],[1,0,60], [1,0,40], [1, 0, 65], [1,0,75], [1,0,80], [1,0,70], [1,0,60], [0,1,65], [0,1,50], [0,1,45], [0,1,35], [0,1,40], [0,1,50], [0,0,55], [0,0,45], [0,0,50], [0,0,60]], dtype=np.float32)\n",
    "data"
   ]
  },
  {
   "cell_type": "code",
   "execution_count": 25,
   "id": "616149fe-88e3-4d3d-bc7b-17007dbf385a",
   "metadata": {},
   "outputs": [
    {
     "data": {
      "text/plain": [
       "tensor([[0., 1.],\n",
       "        [0., 1.],\n",
       "        [0., 1.],\n",
       "        [0., 1.],\n",
       "        [0., 1.],\n",
       "        [0., 1.],\n",
       "        [0., 1.],\n",
       "        [0., 1.],\n",
       "        [0., 1.],\n",
       "        [0., 1.],\n",
       "        [1., 0.],\n",
       "        [1., 0.],\n",
       "        [1., 0.],\n",
       "        [1., 0.],\n",
       "        [1., 0.],\n",
       "        [1., 0.],\n",
       "        [1., 0.],\n",
       "        [1., 0.],\n",
       "        [1., 0.],\n",
       "        [1., 0.]])"
      ]
     },
     "execution_count": 25,
     "metadata": {},
     "output_type": "execute_result"
    }
   ],
   "source": [
    "# Y one hot encoding\n",
    "Y = torch.tensor(data[:, 0], dtype=torch.int64)\n",
    "T = torch.nn.functional.one_hot(Y, num_classes=2)\n",
    "T = T.to(torch.float32)\n",
    "T"
   ]
  },
  {
   "cell_type": "code",
   "execution_count": 27,
   "id": "80393724-ebed-4a94-94c7-71c2a27be536",
   "metadata": {},
   "outputs": [],
   "source": [
    "# X standardize\n",
    "X = torch.tensor(data[:, 1:], dtype=torch.float32)\n",
    "X_mean = torch.mean(X, axis=0)\n",
    "X_std = torch.std(X, axis=0)\n",
    "XX = (X-X_mean) / X_std"
   ]
  },
  {
   "cell_type": "code",
   "execution_count": 29,
   "id": "7fbbebd3-f8ee-4d06-be0a-8cbc6916c332",
   "metadata": {},
   "outputs": [
    {
     "data": {
      "text/plain": [
       "[<matplotlib.lines.Line2D at 0x1dead264350>]"
      ]
     },
     "execution_count": 29,
     "metadata": {},
     "output_type": "execute_result"
    },
    {
     "data": {
      "image/png": "[encoded data removed]",
      "text/plain": [
       "<Figure size 640x480 with 1 Axes>"
      ]
     },
     "metadata": {},
     "output_type": "display_data"
    }
   ],
   "source": [
    "model = torch.nn.Linear(2,2,bias=True) # W: [2,2], Y=X@W\n",
    "def forward(xx):  # z = forward(xx)\n",
    "  return torch.exp(model(xx))\n",
    "\n",
    "def loss_ftn(T, qhat):\n",
    "  temp = - torch.mean(torch.sum(T * torch.log(qhat), axis=1))\n",
    "  return temp\n",
    "\n",
    "optimizer = torch.optim.SGD(model.parameters(), lr= 0.1)\n",
    "\n",
    "history=[]\n",
    "epochs = 1000\n",
    "\n",
    "for i in range(epochs):\n",
    "  zhat = forward(XX) #[n,1] y=1의 확률\n",
    "  qhat = zhat/torch.sum(zhat, axis=1).reshape([-1,1])\n",
    "  loss = loss_ftn(T, qhat)\n",
    "  loss.backward()\n",
    "  optimizer.step()\n",
    "  optimizer.zero_grad()\n",
    "  history.append(loss.item())\n",
    "\n",
    "import matplotlib.pyplot as plt\n",
    "plt.plot(history)"
   ]
  },
  {
   "cell_type": "code",
   "execution_count": 30,
   "id": "c4234c35-5808-4958-8ef1-3bf98f73effb",
   "metadata": {},
   "outputs": [
    {
     "data": {
      "text/plain": [
       "tensor(0.7500)"
      ]
     },
     "execution_count": 30,
     "metadata": {},
     "output_type": "execute_result"
    }
   ],
   "source": [
    "# accuracy\n",
    "Zhat = forward(XX)\n",
    "Qhat = Zhat/torch.sum(Zhat, axis=1).reshape([-1,1])\n",
    "Qhat\n",
    "\n",
    "Yhat = torch.argmax(Qhat, axis=1)\n",
    "Y = torch.argmax(T, axis=1)\n",
    "\n",
    "torch.mean((Yhat == Y)*1.0) "
   ]
  },
  {
   "cell_type": "markdown",
   "id": "b2e9dc62-3aa5-49fb-b687-0329a085be0c",
   "metadata": {},
   "source": [
    "* batch learning"
   ]
  },
  {
   "cell_type": "code",
   "execution_count": 35,
   "id": "510cda8c-208c-430b-b797-632d1141e1c6",
   "metadata": {},
   "outputs": [],
   "source": [
    "dataset = TensorDataset(T,XX)\n",
    "trainloader = DataLoader(dataset=dataset, batch_size=20, shuffle=True)"
   ]
  },
  {
   "cell_type": "code",
   "execution_count": 39,
   "id": "f75406ac-490c-433e-b032-29c34346bb3b",
   "metadata": {},
   "outputs": [
    {
     "data": {
      "text/plain": [
       "[<matplotlib.lines.Line2D at 0x1dead4845f0>]"
      ]
     },
     "execution_count": 39,
     "metadata": {},
     "output_type": "execute_result"
    },
    {
     "data": {
      "image/png": "[encoded data removed]",
      "text/plain": [
       "<Figure size 640x480 with 1 Axes>"
      ]
     },
     "metadata": {},
     "output_type": "display_data"
    }
   ],
   "source": [
    "model = torch.nn.Sequential(\n",
    "    torch.nn.Linear(2,1, bias=True),\n",
    "    torch.nn.Sigmoid()\n",
    ")\n",
    "\n",
    "\n",
    "def loss_ftn(tt, qhat):\n",
    "  temp = -torch.mean(tt*torch.log(qhat))\n",
    "  return temp\n",
    "\n",
    "optimizer = torch.optim.SGD(model.parameters(), lr= 0.1)\n",
    "\n",
    "history=[]\n",
    "epochs = 1000\n",
    "n=len(XX)\n",
    "\n",
    "for i in range(epochs):\n",
    "  epoch_loss = 0.0\n",
    "  for tt, xx in trainloader:\n",
    "    phat = model(xx) #[n,1] y=1의 확률\n",
    "    qhat = torch.concat([1-phat, phat], axis=1)\n",
    "    loss = loss_ftn(tt, qhat)\n",
    "    loss.backward()\n",
    "    optimizer.step()\n",
    "    optimizer.zero_grad()\n",
    "    epoch_loss = epoch_loss + loss.item()*len(tt)\n",
    "  history.append(epoch_loss)\n",
    "\n",
    "plt.plot(history)"
   ]
  },
  {
   "cell_type": "code",
   "execution_count": 41,
   "id": "94ece0de-8565-4033-91dd-6223bfe2e2f7",
   "metadata": {},
   "outputs": [
    {
     "data": {
      "text/plain": [
       "tensor(0.7500)"
      ]
     },
     "execution_count": 41,
     "metadata": {},
     "output_type": "execute_result"
    }
   ],
   "source": [
    "def accuracy_ftn(phat, t):\n",
    "  yhat = (phat>0.5).to(torch.float32)\n",
    "  y = torch.argmax(t, axis=1).to(torch.float32)\n",
    "  accuracy = torch.mean((y.reshape([-1,1])==yhat).to(torch.float32))\n",
    "  return accuracy\n",
    "\n",
    "phat = model(XX)\n",
    "accuracy = accuracy_ftn(phat, T)\n",
    "accuracy"
   ]
  },
  {
   "cell_type": "code",
   "execution_count": null,
   "id": "36115b4d-26e1-4f8c-b8b0-c38ea516a944",
   "metadata": {},
   "outputs": [],
   "source": []
  },
  {
   "cell_type": "code",
   "execution_count": null,
   "id": "a3c16f15-1d68-4ddc-8c42-328316808b01",
   "metadata": {},
   "outputs": [],
   "source": [
    "z_model = nn.Linear(784, 10, bias=True)\n",
    "\n",
    "def loss_fn(qhat, t):\n",
    "  loss = - torch.mean(torch.sum(t * torch.log(qhat), axis=1))\n",
    "  return loss\n",
    "\n",
    "optimizer = torch.optim.SGD(z_model.parameters(), lr=0.01)\n",
    "history=[]\n",
    "epochs = 30\n",
    "\n",
    "for epoch in range(epochs):\n",
    "  epoch_loss = 0.0\n",
    "  for xx, tt in trainloader:\n",
    "    zhat = z_model(xx)\n",
    "    qhat = torch.softmax(zhat, dim=1)\n",
    "    loss = loss_fn(qhat, tt)\n",
    "    loss.backward()\n",
    "    epoch_loss += loss.item()*len(xx)\n",
    "    optimizer.step()\n",
    "    optimizer.zero_grad()\n",
    "  history.append(epoch_loss/n)\n",
    "plt.plot(history)"
   ]
  },
  {
   "cell_type": "code",
   "execution_count": null,
   "id": "22101921-113b-489e-9513-abbf48f2be17",
   "metadata": {},
   "outputs": [],
   "source": [
    "z_model = nn.Linear(784, 10, bias=True) #X:[n, 784] #name changed\n",
    "\n",
    "loss_fn = torch.nn.CrossEntropyLoss(reduction='mean')# This is the only change\n",
    "\n",
    "optimizer = torch.optim.SGD(z_model.parameters(), lr=0.01)\n",
    "history=[]\n",
    "epochs = 10\n",
    "\n",
    "for epoch in range(epochs):\n",
    "  epoch_loss = 0.0\n",
    "  for xx, tt in trainloader:\n",
    "    zhat = z_model(xx)\n",
    "    loss = loss_fn(zhat, tt)\n",
    "    loss.backward()\n",
    "    epoch_loss += loss.item()*len(xx)\n",
    "    optimizer.step()\n",
    "    optimizer.zero_grad()\n",
    "  history.append(epoch_loss/n)\n",
    "plt.plot(history)"
   ]
  },
  {
   "cell_type": "code",
   "execution_count": null,
   "id": "f3d2588c-f903-40ee-aea7-a8f4059c9859",
   "metadata": {},
   "outputs": [],
   "source": [
    "def accuracy_ftn(phat, t):\n",
    "  yhat = torch.argmax(phat, axis=1).to(torch.float32)\n",
    "  y = torch.argmax(t, axis=1).to(torch.float32)\n",
    "  accuracy = torch.mean((y.reshape([-1])==yhat).to(torch.float32))\n",
    "  return accuracy\n",
    "\n",
    "phat = torch.softmax(z_model(x_test), axis=1)\n",
    "accuracy = accuracy_ftn(phat, t_test)\n",
    "accuracy"
   ]
  },
  {
   "cell_type": "code",
   "execution_count": null,
   "id": "ce6ced86-037b-417d-a5a1-d3f0b7ca47fa",
   "metadata": {},
   "outputs": [],
   "source": []
  }
 ],
 "metadata": {
  "kernelspec": {
   "display_name": "Python 3 (ipykernel)",
   "language": "python",
   "name": "python3"
  },
  "language_info": {
   "codemirror_mode": {
    "name": "ipython",
    "version": 3
   },
   "file_extension": ".py",
   "mimetype": "text/x-python",
   "name": "python",
   "nbconvert_exporter": "python",
   "pygments_lexer": "ipython3",
   "version": "3.12.7"
  }
 },
 "nbformat": 4,
 "nbformat_minor": 5
}
