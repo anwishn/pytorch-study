{
 "cells": [
  {
   "cell_type": "markdown",
   "id": "b31d2d1b-6acf-42ff-804b-247fe07376b7",
   "metadata": {},
   "source": [
    "# 1) Linear Regression Model"
   ]
  },
  {
   "cell_type": "markdown",
   "id": "02193a8b-0d78-4052-ab3d-2099618d59b2",
   "metadata": {},
   "source": [
    "You are given X and Y.\n",
    "\n",
    "Your goal is to find the best linear model to explain the relation between X and Y by minimizing the following\n",
    "\n",
    "$Loss(w, b)=\\sum\\limits_{i=1}^{n}(Y_i-Yhat_i)^2$\n",
    "\n",
    "where\n",
    "\n",
    "$Yhat_i:=X_i*b1 +b0$."
   ]
  },
  {
   "cell_type": "code",
   "execution_count": 196,
   "id": "97de839c-23cd-431a-ad0e-a1afb7f7bd9f",
   "metadata": {},
   "outputs": [],
   "source": [
    "import torch\n",
    "import numpy as np"
   ]
  },
  {
   "cell_type": "code",
   "execution_count": 198,
   "id": "76a37743-95b3-42ed-9dce-b4e07d50997f",
   "metadata": {},
   "outputs": [],
   "source": [
    "b = torch.tensor([-1.0])\n",
    "w = torch.tensor([2.0])"
   ]
  },
  {
   "cell_type": "code",
   "execution_count": 200,
   "id": "37dcd989-1eac-4727-945d-a1f09ee6127b",
   "metadata": {},
   "outputs": [
    {
     "name": "stdout",
     "output_type": "stream",
     "text": [
      "torch.Size([20, 1]) torch.Size([20, 1])\n"
     ]
    }
   ],
   "source": [
    "torch.manual_seed(2021)\n",
    "X = torch.arange(-3,3, 0.3).view(-1, 1)\n",
    "f = w*X+b\n",
    "Y = f + torch.randn(f.shape)\n",
    "print(X.shape, Y.shape)"
   ]
  },
  {
   "cell_type": "markdown",
   "id": "c9f3d270-b88f-4791-a407-b6fc7d2e283f",
   "metadata": {},
   "source": [
    "1. b0, b1 각각 뽑아"
   ]
  },
  {
   "cell_type": "code",
   "execution_count": 273,
   "id": "c380bcc1-e8c7-4018-b44b-f44543cdcda8",
   "metadata": {},
   "outputs": [
    {
     "name": "stderr",
     "output_type": "stream",
     "text": [
      "C:\\Users\\annyu\\AppData\\Local\\Temp\\ipykernel_3728\\2951357554.py:1: UserWarning: To copy construct from a tensor, it is recommended to use sourceTensor.clone().detach() or sourceTensor.clone().detach().requires_grad_(True), rather than torch.tensor(sourceTensor).\n",
      "  b1 = torch.tensor(torch.randn([1]), requires_grad=True)\n",
      "C:\\Users\\annyu\\AppData\\Local\\Temp\\ipykernel_3728\\2951357554.py:2: UserWarning: To copy construct from a tensor, it is recommended to use sourceTensor.clone().detach() or sourceTensor.clone().detach().requires_grad_(True), rather than torch.tensor(sourceTensor).\n",
      "  b0 = torch.tensor(torch.randn([1]), requires_grad=True)\n"
     ]
    }
   ],
   "source": [
    "b1 = torch.tensor(torch.randn([1]), requires_grad=True)\n",
    "b0 = torch.tensor(torch.randn([1]), requires_grad=True)\n",
    "\n",
    "def forward(x):\n",
    "  return x*b1+b0\n",
    "\n",
    "def criterion(yhat, y):\n",
    "    return torch.mean((yhat-y)**2)\n",
    "\n",
    "lr=0.1\n",
    "epochs = 100\n",
    "history = []\n",
    "\n",
    "for epoch in range(epochs):\n",
    "    Yhat = forward(X) # X : [20,1], Yhat : [20,1]\n",
    "    loss = criterion(Yhat,Y) # 둘다 [20,1]\n",
    "    b1.grad=None\n",
    "    b0.grad=None\n",
    "    loss.backward()\n",
    "    b1.data = b1.data-lr*b1.grad\n",
    "    b0.data = b0.data-lr*b0.grad\n",
    "    history.append(loss.item())"
   ]
  },
  {
   "cell_type": "code",
   "execution_count": 275,
   "id": "431a244a-a0b4-43dd-9ee9-da0e826a9706",
   "metadata": {},
   "outputs": [
    {
     "data": {
      "text/plain": [
       "[<matplotlib.lines.Line2D at 0x1c8a0efdf40>]"
      ]
     },
     "execution_count": 275,
     "metadata": {},
     "output_type": "execute_result"
    },
    {
     "data": {
      "image/png": "[encoded data removed]",
      "text/plain": [
       "<Figure size 640x480 with 1 Axes>"
      ]
     },
     "metadata": {},
     "output_type": "display_data"
    }
   ],
   "source": [
    "import matplotlib.pyplot as plt\n",
    "plt.plot(history)"
   ]
  },
  {
   "cell_type": "code",
   "execution_count": 277,
   "id": "70833e06-e9b9-4d70-96ce-809376a7016e",
   "metadata": {},
   "outputs": [
    {
     "name": "stdout",
     "output_type": "stream",
     "text": [
      "tensor([1.7149]) tensor([-1.1823])\n"
     ]
    }
   ],
   "source": [
    "print(b1.data, b0.data)"
   ]
  },
  {
   "cell_type": "markdown",
   "id": "e5ceb549-fdd0-4698-8884-781fba57e689",
   "metadata": {},
   "source": [
    "2. design matrix 만들어 beta 한번에 [2,1]로 뽑아"
   ]
  },
  {
   "cell_type": "code",
   "execution_count": 280,
   "id": "d66d7c61-a025-4349-ac30-e6d4d1b6e4b0",
   "metadata": {},
   "outputs": [],
   "source": [
    "ones = torch.ones([X.shape[0],1]) # X : [n, 1]\n",
    "XX = torch.concat([ones, X], axis=1) # XX : [n, 2]"
   ]
  },
  {
   "cell_type": "code",
   "execution_count": 282,
   "id": "32107747-8750-4d2d-aaec-1aa3f7501f6f",
   "metadata": {},
   "outputs": [
    {
     "name": "stderr",
     "output_type": "stream",
     "text": [
      "C:\\Users\\annyu\\AppData\\Local\\Temp\\ipykernel_3728\\2816580951.py:1: UserWarning: To copy construct from a tensor, it is recommended to use sourceTensor.clone().detach() or sourceTensor.clone().detach().requires_grad_(True), rather than torch.tensor(sourceTensor).\n",
      "  beta = torch.tensor(torch.randn([2,1]), requires_grad=True)\n"
     ]
    }
   ],
   "source": [
    "beta = torch.tensor(torch.randn([2,1]), requires_grad=True)\n",
    "\n",
    "def forward(x):\n",
    "  return x @ beta\n",
    "def loss_ftn(y, yhat):\n",
    "  return torch.mean((y-yhat)**2)\n",
    "\n",
    "lr = 0.01\n",
    "epochs = 100\n",
    "history = []\n",
    "for i in range(epochs):\n",
    "    Yhat = forward(XX)\n",
    "    Loss = loss_ftn(Y, Yhat)\n",
    "    beta.grad = None\n",
    "    Loss.backward()\n",
    "    beta.data -= lr * beta.grad\n",
    "    history.append(Loss.item())"
   ]
  },
  {
   "cell_type": "code",
   "execution_count": 284,
   "id": "1c3d6de1-c4ec-4772-8bf2-05ebf73809a6",
   "metadata": {},
   "outputs": [
    {
     "data": {
      "text/plain": [
       "[<matplotlib.lines.Line2D at 0x1c8a11e9df0>]"
      ]
     },
     "execution_count": 284,
     "metadata": {},
     "output_type": "execute_result"
    },
    {
     "data": {
      "image/png": "[encoded data removed]",
      "text/plain": [
       "<Figure size 640x480 with 1 Axes>"
      ]
     },
     "metadata": {},
     "output_type": "display_data"
    }
   ],
   "source": [
    "plt.plot(history)"
   ]
  },
  {
   "cell_type": "code",
   "execution_count": 286,
   "id": "ff01a1f9-edc9-48f5-9811-d3f51cbeb807",
   "metadata": {},
   "outputs": [
    {
     "data": {
      "text/plain": [
       "tensor([[-1.1288],\n",
       "        [ 1.7126]])"
      ]
     },
     "execution_count": 286,
     "metadata": {},
     "output_type": "execute_result"
    }
   ],
   "source": [
    "beta.data"
   ]
  },
  {
   "cell_type": "markdown",
   "id": "8921863a-fb23-4bea-8fe9-779c8c87da44",
   "metadata": {},
   "source": [
    "### SGD 사용\n",
    "* optimizer.zero_grad()\n",
    "  \n",
    "w.grad = None\n",
    "\n",
    "b.grad = None\n",
    "\n",
    "* optimizer.step()\n",
    "  \n",
    "w.data = w.data-lr*w.grad\n",
    "\n",
    "b.data = b.data-lr*b.grad"
   ]
  },
  {
   "cell_type": "markdown",
   "id": "fb2d1d0e-2bab-44ca-9d51-34b3ff3293b4",
   "metadata": {},
   "source": [
    "3. b0, b1 각각 뽑아 torch.optim.SGD() 안에 []로 넣기"
   ]
  },
  {
   "cell_type": "code",
   "execution_count": 289,
   "id": "5688a898-ac56-4324-a6bd-5a52bf41876e",
   "metadata": {},
   "outputs": [
    {
     "name": "stderr",
     "output_type": "stream",
     "text": [
      "C:\\Users\\annyu\\AppData\\Local\\Temp\\ipykernel_3728\\4011488433.py:1: UserWarning: To copy construct from a tensor, it is recommended to use sourceTensor.clone().detach() or sourceTensor.clone().detach().requires_grad_(True), rather than torch.tensor(sourceTensor).\n",
      "  b1 = torch.tensor(torch.randn([1]), requires_grad=True)\n",
      "C:\\Users\\annyu\\AppData\\Local\\Temp\\ipykernel_3728\\4011488433.py:2: UserWarning: To copy construct from a tensor, it is recommended to use sourceTensor.clone().detach() or sourceTensor.clone().detach().requires_grad_(True), rather than torch.tensor(sourceTensor).\n",
      "  b0 = torch.tensor(torch.randn([1]), requires_grad=True)\n"
     ]
    }
   ],
   "source": [
    "b1 = torch.tensor(torch.randn([1]), requires_grad=True)\n",
    "b0 = torch.tensor(torch.randn([1]), requires_grad=True)\n",
    "optimizer = torch.optim.SGD([b1, b0], lr=0.1)\n",
    "\n",
    "def forward(x):\n",
    "  return b0 + b1 * x\n",
    "def loss_ftn(y, yhat):\n",
    "  return torch.mean((y-yhat)**2)\n",
    "\n",
    "epochs = 100\n",
    "history = []\n",
    "\n",
    "for i in range(epochs):\n",
    "    Yhat = forward(X)\n",
    "    Loss = loss_ftn(Y, Yhat)\n",
    "    optimizer.zero_grad()  # w.grad = None # b.grad = None\n",
    "    Loss.backward()\n",
    "    optimizer.step() # w.data -= lr * w.grad # b.data -= lr * b.grad\n",
    "    history.append(Loss.item())"
   ]
  },
  {
   "cell_type": "code",
   "execution_count": 291,
   "id": "346033df-7308-4814-8076-c3485894ec83",
   "metadata": {},
   "outputs": [
    {
     "data": {
      "text/plain": [
       "[<matplotlib.lines.Line2D at 0x1c8a124e030>]"
      ]
     },
     "execution_count": 291,
     "metadata": {},
     "output_type": "execute_result"
    },
    {
     "data": {
      "image/png": "[encoded data removed]",
      "text/plain": [
       "<Figure size 640x480 with 1 Axes>"
      ]
     },
     "metadata": {},
     "output_type": "display_data"
    }
   ],
   "source": [
    "plt.plot(history)"
   ]
  },
  {
   "cell_type": "code",
   "execution_count": 293,
   "id": "cc45f1b4-2a2f-4ca5-8205-18d1bafb4dfe",
   "metadata": {},
   "outputs": [
    {
     "name": "stdout",
     "output_type": "stream",
     "text": [
      "tensor([1.7149]) tensor([-1.1823])\n"
     ]
    }
   ],
   "source": [
    "print(b1.data, b0.data)"
   ]
  },
  {
   "cell_type": "markdown",
   "id": "063dbffc-8086-4802-b086-9424e2d9d137",
   "metadata": {},
   "source": [
    "4. beta 값을 torch.nn.Linear()로 뽑기. 이때 2개 뽑고 bias = False. SGD 인자로 forward.weight 대입"
   ]
  },
  {
   "cell_type": "code",
   "execution_count": 296,
   "id": "c36a13a9-2d18-447c-a265-d58457aaa9a9",
   "metadata": {},
   "outputs": [],
   "source": [
    "forward = torch.nn.Linear(2,1,bias=False) # b0, b1\n",
    "optimizer = torch.optim.SGD([forward.weight], lr=lr) # list 형태로 넣어\n",
    "\n",
    "def loss_ftn(y, yhat):\n",
    "  return torch.mean((y-yhat)**2)\n",
    "\n",
    "lr = 0.1\n",
    "epochs = 100\n",
    "history = []\n",
    "\n",
    "for i in range(epochs):\n",
    "    Yhat = forward(XX) # XX @ beta # 2개 뽑았으니\n",
    "    Loss = loss_ftn(Y, Yhat)\n",
    "    optimizer.zero_grad()\n",
    "    Loss.backward()\n",
    "    optimizer.step()\n",
    "    history.append(Loss.item())"
   ]
  },
  {
   "cell_type": "code",
   "execution_count": 298,
   "id": "c7a0b43f-6b23-4034-a725-15fad7a4f7e9",
   "metadata": {},
   "outputs": [
    {
     "data": {
      "text/plain": [
       "[<matplotlib.lines.Line2D at 0x1c8a0d45580>]"
      ]
     },
     "execution_count": 298,
     "metadata": {},
     "output_type": "execute_result"
    },
    {
     "data": {
      "image/png": "[encoded data removed]",
      "text/plain": [
       "<Figure size 640x480 with 1 Axes>"
      ]
     },
     "metadata": {},
     "output_type": "display_data"
    }
   ],
   "source": [
    "plt.plot(history)"
   ]
  },
  {
   "cell_type": "markdown",
   "id": "ba507d70-8a60-4e1e-b794-ff63a2a5f870",
   "metadata": {},
   "source": [
    "5. b1 하나만 뽑되, bias=True로 -> [forward.weight] 대신 forward.parameters() 대입 가능"
   ]
  },
  {
   "cell_type": "code",
   "execution_count": 305,
   "id": "312b2794-3afd-473f-9379-4a93bf693ecf",
   "metadata": {},
   "outputs": [],
   "source": [
    "forward = torch.nn.Linear(1,1,bias=True)\n",
    "optimizer = torch.optim.SGD(forward.parameters(), lr=lr) # [forward.weight] 넣어도 가능\n",
    "\n",
    "def loss_ftn(y, yhat):\n",
    "  return torch.mean((y-yhat)**2)\n",
    "\n",
    "lr = 0.1\n",
    "epochs = 100\n",
    "history = []\n",
    "\n",
    "for i in range(epochs):\n",
    "    Yhat = forward(X)\n",
    "    Loss = loss_ftn(Y, Yhat)\n",
    "    optimizer.zero_grad()\n",
    "    Loss.backward()\n",
    "    optimizer.step()\n",
    "    history.append(Loss.item())"
   ]
  },
  {
   "cell_type": "code",
   "execution_count": 307,
   "id": "8c65b250-a249-46cc-8c40-6495483e1961",
   "metadata": {},
   "outputs": [
    {
     "data": {
      "text/plain": [
       "[<matplotlib.lines.Line2D at 0x1c8a11c1bb0>]"
      ]
     },
     "execution_count": 307,
     "metadata": {},
     "output_type": "execute_result"
    },
    {
     "data": {
      "image/png": "[encoded data removed]",
      "text/plain": [
       "<Figure size 640x480 with 1 Axes>"
      ]
     },
     "metadata": {},
     "output_type": "display_data"
    }
   ],
   "source": [
    "plt.plot(history)"
   ]
  },
  {
   "cell_type": "markdown",
   "id": "24351758-9ccc-4b67-b8df-ace231e65156",
   "metadata": {},
   "source": [
    "6. b1 만 torch.nn.Linear로 뽑고, b0는 따로 랜덤 -> 인자로 둘다 넣기. Yhat 구할 때 따로 b0 더해주기"
   ]
  },
  {
   "cell_type": "code",
   "execution_count": 310,
   "id": "a4261bfa-b1dc-4622-8759-90c5da73d8b0",
   "metadata": {},
   "outputs": [
    {
     "name": "stderr",
     "output_type": "stream",
     "text": [
      "C:\\Users\\annyu\\AppData\\Local\\Temp\\ipykernel_3728\\1377757972.py:1: UserWarning: To copy construct from a tensor, it is recommended to use sourceTensor.clone().detach() or sourceTensor.clone().detach().requires_grad_(True), rather than torch.tensor(sourceTensor).\n",
      "  b0 = torch.tensor(torch.randn([1]), requires_grad=True)\n"
     ]
    }
   ],
   "source": [
    "b0 = torch.tensor(torch.randn([1]), requires_grad=True)\n",
    "forward = torch.nn.Linear(1,1,bias=False)\n",
    "optimizer = torch.optim.SGD([forward.weight, b0], lr=lr) # list 형태로 넣어\n",
    "\n",
    "def loss_ftn(y, yhat):\n",
    "  return torch.mean((y-yhat)**2)\n",
    "\n",
    "lr = 0.1\n",
    "epochs = 100\n",
    "history = []\n",
    "\n",
    "for i in range(epochs):\n",
    "    Yhat = forward(X) + b0\n",
    "    Loss = loss_ftn(Y, Yhat)\n",
    "    optimizer.zero_grad()\n",
    "    Loss.backward()\n",
    "    optimizer.step()\n",
    "    history.append(Loss.item())"
   ]
  },
  {
   "cell_type": "code",
   "execution_count": 312,
   "id": "ddac8791-c3f0-4c0e-b8dc-f2a46de1539f",
   "metadata": {},
   "outputs": [
    {
     "data": {
      "text/plain": [
       "[<matplotlib.lines.Line2D at 0x1c8a12cdc40>]"
      ]
     },
     "execution_count": 312,
     "metadata": {},
     "output_type": "execute_result"
    },
    {
     "data": {
      "image/png": "[encoded data removed]",
      "text/plain": [
       "<Figure size 640x480 with 1 Axes>"
      ]
     },
     "metadata": {},
     "output_type": "display_data"
    }
   ],
   "source": [
    "plt.plot(history)"
   ]
  },
  {
   "cell_type": "markdown",
   "id": "fc43fd55-5b44-468d-a227-edb4600b72c7",
   "metadata": {},
   "source": [
    "# 2) Review : Linear regression"
   ]
  },
  {
   "cell_type": "code",
   "execution_count": 321,
   "id": "f5d706ed-cd00-4cb1-8ebc-b8886cfb36fa",
   "metadata": {},
   "outputs": [
    {
     "name": "stdout",
     "output_type": "stream",
     "text": [
      "Collecting ISLP\n",
      "  Downloading ISLP-0.4.0-py3-none-any.whl.metadata (7.0 kB)\n",
      "Requirement already satisfied: numpy>=1.7.1 in c:\\users\\annyu\\anaconda3\\lib\\site-packages (from ISLP) (1.26.4)\n",
      "Requirement already satisfied: scipy>=0.9 in c:\\users\\annyu\\anaconda3\\lib\\site-packages (from ISLP) (1.13.1)\n",
      "Requirement already satisfied: pandas>=0.20 in c:\\users\\annyu\\anaconda3\\lib\\site-packages (from ISLP) (2.2.2)\n",
      "Requirement already satisfied: lxml in c:\\users\\annyu\\anaconda3\\lib\\site-packages (from ISLP) (5.2.1)\n",
      "Requirement already satisfied: scikit-learn>=1.2 in c:\\users\\annyu\\anaconda3\\lib\\site-packages (from ISLP) (1.5.1)\n",
      "Requirement already satisfied: joblib in c:\\users\\annyu\\anaconda3\\lib\\site-packages (from ISLP) (1.4.2)\n",
      "Requirement already satisfied: statsmodels>=0.13 in c:\\users\\annyu\\anaconda3\\lib\\site-packages (from ISLP) (0.14.2)\n",
      "Collecting lifelines (from ISLP)\n",
      "  Downloading lifelines-0.30.0-py3-none-any.whl.metadata (3.2 kB)\n",
      "Collecting pygam (from ISLP)\n",
      "  Downloading pygam-0.9.1-py3-none-any.whl.metadata (7.1 kB)\n",
      "Requirement already satisfied: torch in c:\\users\\annyu\\anaconda3\\lib\\site-packages (from ISLP) (2.5.1)\n",
      "Collecting pytorch-lightning (from ISLP)\n",
      "  Downloading pytorch_lightning-2.4.0-py3-none-any.whl.metadata (21 kB)\n",
      "Collecting torchmetrics (from ISLP)\n",
      "  Downloading torchmetrics-1.6.0-py3-none-any.whl.metadata (20 kB)\n",
      "Requirement already satisfied: python-dateutil>=2.8.2 in c:\\users\\annyu\\anaconda3\\lib\\site-packages (from pandas>=0.20->ISLP) (2.9.0.post0)\n",
      "Requirement already satisfied: pytz>=2020.1 in c:\\users\\annyu\\anaconda3\\lib\\site-packages (from pandas>=0.20->ISLP) (2024.1)\n",
      "Requirement already satisfied: tzdata>=2022.7 in c:\\users\\annyu\\anaconda3\\lib\\site-packages (from pandas>=0.20->ISLP) (2023.3)\n",
      "Requirement already satisfied: threadpoolctl>=3.1.0 in c:\\users\\annyu\\anaconda3\\lib\\site-packages (from scikit-learn>=1.2->ISLP) (3.5.0)\n",
      "Requirement already satisfied: patsy>=0.5.6 in c:\\users\\annyu\\anaconda3\\lib\\site-packages (from statsmodels>=0.13->ISLP) (0.5.6)\n",
      "Requirement already satisfied: packaging>=21.3 in c:\\users\\annyu\\anaconda3\\lib\\site-packages (from statsmodels>=0.13->ISLP) (24.1)\n",
      "Requirement already satisfied: matplotlib>=3.0 in c:\\users\\annyu\\anaconda3\\lib\\site-packages (from lifelines->ISLP) (3.9.2)\n",
      "Collecting autograd>=1.5 (from lifelines->ISLP)\n",
      "  Downloading autograd-1.7.0-py3-none-any.whl.metadata (7.5 kB)\n",
      "Collecting autograd-gamma>=0.3 (from lifelines->ISLP)\n",
      "  Downloading autograd-gamma-0.5.0.tar.gz (4.0 kB)\n",
      "  Preparing metadata (setup.py): started\n",
      "  Preparing metadata (setup.py): finished with status 'done'\n",
      "Collecting formulaic>=0.2.2 (from lifelines->ISLP)\n",
      "  Downloading formulaic-1.0.2-py3-none-any.whl.metadata (6.8 kB)\n",
      "Collecting progressbar2<5.0.0,>=4.2.0 (from pygam->ISLP)\n",
      "  Downloading progressbar2-4.5.0-py3-none-any.whl.metadata (16 kB)\n",
      "Collecting scipy>=0.9 (from ISLP)\n",
      "  Downloading scipy-1.11.4-cp312-cp312-win_amd64.whl.metadata (60 kB)\n",
      "Requirement already satisfied: tqdm>=4.57.0 in c:\\users\\annyu\\anaconda3\\lib\\site-packages (from pytorch-lightning->ISLP) (4.66.5)\n",
      "Requirement already satisfied: PyYAML>=5.4 in c:\\users\\annyu\\anaconda3\\lib\\site-packages (from pytorch-lightning->ISLP) (6.0.1)\n",
      "Requirement already satisfied: fsspec>=2022.5.0 in c:\\users\\annyu\\anaconda3\\lib\\site-packages (from fsspec[http]>=2022.5.0->pytorch-lightning->ISLP) (2024.6.1)\n",
      "Requirement already satisfied: typing-extensions>=4.4.0 in c:\\users\\annyu\\anaconda3\\lib\\site-packages (from pytorch-lightning->ISLP) (4.11.0)\n",
      "Collecting lightning-utilities>=0.10.0 (from pytorch-lightning->ISLP)\n",
      "  Downloading lightning_utilities-0.11.9-py3-none-any.whl.metadata (5.2 kB)\n",
      "Requirement already satisfied: filelock in c:\\users\\annyu\\anaconda3\\lib\\site-packages (from torch->ISLP) (3.13.1)\n",
      "Requirement already satisfied: setuptools in c:\\users\\annyu\\anaconda3\\lib\\site-packages (from torch->ISLP) (75.1.0)\n",
      "Requirement already satisfied: sympy==1.13.1 in c:\\users\\annyu\\anaconda3\\lib\\site-packages (from torch->ISLP) (1.13.1)\n",
      "Requirement already satisfied: networkx in c:\\users\\annyu\\anaconda3\\lib\\site-packages (from torch->ISLP) (3.3)\n",
      "Requirement already satisfied: jinja2 in c:\\users\\annyu\\anaconda3\\lib\\site-packages (from torch->ISLP) (3.1.4)\n",
      "Requirement already satisfied: mpmath<1.4,>=1.1.0 in c:\\users\\annyu\\anaconda3\\lib\\site-packages (from sympy==1.13.1->torch->ISLP) (1.3.0)\n",
      "Collecting interface-meta>=1.2.0 (from formulaic>=0.2.2->lifelines->ISLP)\n",
      "  Downloading interface_meta-1.3.0-py3-none-any.whl.metadata (6.7 kB)\n",
      "Requirement already satisfied: wrapt>=1.0 in c:\\users\\annyu\\anaconda3\\lib\\site-packages (from formulaic>=0.2.2->lifelines->ISLP) (1.14.1)\n",
      "Requirement already satisfied: aiohttp!=4.0.0a0,!=4.0.0a1 in c:\\users\\annyu\\anaconda3\\lib\\site-packages (from fsspec[http]>=2022.5.0->pytorch-lightning->ISLP) (3.10.5)\n",
      "Requirement already satisfied: contourpy>=1.0.1 in c:\\users\\annyu\\anaconda3\\lib\\site-packages (from matplotlib>=3.0->lifelines->ISLP) (1.2.0)\n",
      "Requirement already satisfied: cycler>=0.10 in c:\\users\\annyu\\anaconda3\\lib\\site-packages (from matplotlib>=3.0->lifelines->ISLP) (0.11.0)\n",
      "Requirement already satisfied: fonttools>=4.22.0 in c:\\users\\annyu\\anaconda3\\lib\\site-packages (from matplotlib>=3.0->lifelines->ISLP) (4.51.0)\n",
      "Requirement already satisfied: kiwisolver>=1.3.1 in c:\\users\\annyu\\anaconda3\\lib\\site-packages (from matplotlib>=3.0->lifelines->ISLP) (1.4.4)\n",
      "Requirement already satisfied: pillow>=8 in c:\\users\\annyu\\anaconda3\\lib\\site-packages (from matplotlib>=3.0->lifelines->ISLP) (10.4.0)\n",
      "Requirement already satisfied: pyparsing>=2.3.1 in c:\\users\\annyu\\anaconda3\\lib\\site-packages (from matplotlib>=3.0->lifelines->ISLP) (3.1.2)\n",
      "Requirement already satisfied: six in c:\\users\\annyu\\anaconda3\\lib\\site-packages (from patsy>=0.5.6->statsmodels>=0.13->ISLP) (1.16.0)\n",
      "Collecting python-utils>=3.8.1 (from progressbar2<5.0.0,>=4.2.0->pygam->ISLP)\n",
      "  Downloading python_utils-3.9.1-py2.py3-none-any.whl.metadata (9.8 kB)\n",
      "Requirement already satisfied: colorama in c:\\users\\annyu\\anaconda3\\lib\\site-packages (from tqdm>=4.57.0->pytorch-lightning->ISLP) (0.4.6)\n",
      "Requirement already satisfied: MarkupSafe>=2.0 in c:\\users\\annyu\\anaconda3\\lib\\site-packages (from jinja2->torch->ISLP) (2.1.3)\n",
      "Requirement already satisfied: aiohappyeyeballs>=2.3.0 in c:\\users\\annyu\\anaconda3\\lib\\site-packages (from aiohttp!=4.0.0a0,!=4.0.0a1->fsspec[http]>=2022.5.0->pytorch-lightning->ISLP) (2.4.0)\n",
      "Requirement already satisfied: aiosignal>=1.1.2 in c:\\users\\annyu\\anaconda3\\lib\\site-packages (from aiohttp!=4.0.0a0,!=4.0.0a1->fsspec[http]>=2022.5.0->pytorch-lightning->ISLP) (1.2.0)\n",
      "Requirement already satisfied: attrs>=17.3.0 in c:\\users\\annyu\\anaconda3\\lib\\site-packages (from aiohttp!=4.0.0a0,!=4.0.0a1->fsspec[http]>=2022.5.0->pytorch-lightning->ISLP) (23.1.0)\n",
      "Requirement already satisfied: frozenlist>=1.1.1 in c:\\users\\annyu\\anaconda3\\lib\\site-packages (from aiohttp!=4.0.0a0,!=4.0.0a1->fsspec[http]>=2022.5.0->pytorch-lightning->ISLP) (1.4.0)\n",
      "Requirement already satisfied: multidict<7.0,>=4.5 in c:\\users\\annyu\\anaconda3\\lib\\site-packages (from aiohttp!=4.0.0a0,!=4.0.0a1->fsspec[http]>=2022.5.0->pytorch-lightning->ISLP) (6.0.4)\n",
      "Requirement already satisfied: yarl<2.0,>=1.0 in c:\\users\\annyu\\anaconda3\\lib\\site-packages (from aiohttp!=4.0.0a0,!=4.0.0a1->fsspec[http]>=2022.5.0->pytorch-lightning->ISLP) (1.11.0)\n",
      "Requirement already satisfied: idna>=2.0 in c:\\users\\annyu\\anaconda3\\lib\\site-packages (from yarl<2.0,>=1.0->aiohttp!=4.0.0a0,!=4.0.0a1->fsspec[http]>=2022.5.0->pytorch-lightning->ISLP) (3.7)\n",
      "Downloading ISLP-0.4.0-py3-none-any.whl (3.6 MB)\n",
      "   ---------------------------------------- 0.0/3.6 MB ? eta -:--:--\n",
      "   ----------- ---------------------------- 1.0/3.6 MB 5.6 MB/s eta 0:00:01\n",
      "   -------------------------- ------------- 2.4/3.6 MB 5.8 MB/s eta 0:00:01\n",
      "   ---------------------------------------- 3.6/3.6 MB 5.8 MB/s eta 0:00:00\n",
      "Downloading lifelines-0.30.0-py3-none-any.whl (349 kB)\n",
      "Downloading pygam-0.9.1-py3-none-any.whl (522 kB)\n",
      "Downloading scipy-1.11.4-cp312-cp312-win_amd64.whl (43.7 MB)\n",
      "   ---------------------------------------- 0.0/43.7 MB ? eta -:--:--\n",
      "   - -------------------------------------- 1.3/43.7 MB 6.1 MB/s eta 0:00:07\n",
      "   -- ------------------------------------- 2.6/43.7 MB 6.0 MB/s eta 0:00:07\n",
      "   --- ------------------------------------ 3.9/43.7 MB 6.0 MB/s eta 0:00:07\n",
      "   ---- ----------------------------------- 5.0/43.7 MB 5.9 MB/s eta 0:00:07\n",
      "   ----- ---------------------------------- 6.3/43.7 MB 5.9 MB/s eta 0:00:07\n",
      "   ------ --------------------------------- 7.6/43.7 MB 5.9 MB/s eta 0:00:07\n",
      "   -------- ------------------------------- 8.9/43.7 MB 6.0 MB/s eta 0:00:06\n",
      "   --------- ------------------------------ 10.2/43.7 MB 6.0 MB/s eta 0:00:06\n",
      "   ---------- ----------------------------- 11.5/43.7 MB 6.0 MB/s eta 0:00:06\n",
      "   ----------- ---------------------------- 12.6/43.7 MB 6.0 MB/s eta 0:00:06\n",
      "   ------------ --------------------------- 13.9/43.7 MB 6.0 MB/s eta 0:00:05\n",
      "   ------------- -------------------------- 15.2/43.7 MB 6.0 MB/s eta 0:00:05\n",
      "   --------------- ------------------------ 16.5/43.7 MB 6.0 MB/s eta 0:00:05\n",
      "   ---------------- ----------------------- 17.8/43.7 MB 6.0 MB/s eta 0:00:05\n",
      "   ----------------- ---------------------- 18.9/43.7 MB 6.0 MB/s eta 0:00:05\n",
      "   ------------------ --------------------- 20.2/43.7 MB 6.0 MB/s eta 0:00:04\n",
      "   ------------------- -------------------- 21.5/43.7 MB 6.0 MB/s eta 0:00:04\n",
      "   -------------------- ------------------- 22.8/43.7 MB 6.0 MB/s eta 0:00:04\n",
      "   ---------------------- ----------------- 24.1/43.7 MB 6.0 MB/s eta 0:00:04\n",
      "   ----------------------- ---------------- 25.4/43.7 MB 6.0 MB/s eta 0:00:04\n",
      "   ------------------------ --------------- 26.7/43.7 MB 6.0 MB/s eta 0:00:03\n",
      "   ------------------------- -------------- 27.8/43.7 MB 6.0 MB/s eta 0:00:03\n",
      "   -------------------------- ------------- 29.1/43.7 MB 6.0 MB/s eta 0:00:03\n",
      "   --------------------------- ------------ 30.4/43.7 MB 6.0 MB/s eta 0:00:03\n",
      "   ----------------------------- ---------- 31.7/43.7 MB 6.0 MB/s eta 0:00:03\n",
      "   ------------------------------ --------- 33.0/43.7 MB 6.0 MB/s eta 0:00:02\n",
      "   ------------------------------- -------- 34.3/43.7 MB 6.0 MB/s eta 0:00:02\n",
      "   -------------------------------- ------- 35.7/43.7 MB 6.0 MB/s eta 0:00:02\n",
      "   --------------------------------- ------ 36.7/43.7 MB 6.0 MB/s eta 0:00:02\n",
      "   ---------------------------------- ----- 38.0/43.7 MB 6.0 MB/s eta 0:00:01\n",
      "   ----------------------------------- ---- 39.3/43.7 MB 6.0 MB/s eta 0:00:01\n",
      "   ------------------------------------- -- 40.6/43.7 MB 5.9 MB/s eta 0:00:01\n",
      "   -------------------------------------- - 41.7/43.7 MB 6.0 MB/s eta 0:00:01\n",
      "   ---------------------------------------  43.0/43.7 MB 6.0 MB/s eta 0:00:01\n",
      "   ---------------------------------------- 43.7/43.7 MB 5.9 MB/s eta 0:00:00\n",
      "Downloading pytorch_lightning-2.4.0-py3-none-any.whl (815 kB)\n",
      "   ---------------------------------------- 0.0/815.2 kB ? eta -:--:--\n",
      "   ---------------------------------------- 815.2/815.2 kB 5.9 MB/s eta 0:00:00\n",
      "Downloading torchmetrics-1.6.0-py3-none-any.whl (926 kB)\n",
      "   ---------------------------------------- 0.0/926.4 kB ? eta -:--:--\n",
      "   ----------- ---------------------------- 262.1/926.4 kB ? eta -:--:--\n",
      "   ---------------------------------------- 926.4/926.4 kB 3.9 MB/s eta 0:00:00\n",
      "Downloading autograd-1.7.0-py3-none-any.whl (52 kB)\n",
      "Downloading formulaic-1.0.2-py3-none-any.whl (94 kB)\n",
      "Downloading lightning_utilities-0.11.9-py3-none-any.whl (28 kB)\n",
      "Downloading progressbar2-4.5.0-py3-none-any.whl (57 kB)\n",
      "Downloading interface_meta-1.3.0-py3-none-any.whl (14 kB)\n",
      "Downloading python_utils-3.9.1-py2.py3-none-any.whl (32 kB)\n",
      "Building wheels for collected packages: autograd-gamma\n",
      "  Building wheel for autograd-gamma (setup.py): started\n",
      "  Building wheel for autograd-gamma (setup.py): finished with status 'done'\n",
      "  Created wheel for autograd-gamma: filename=autograd_gamma-0.5.0-py3-none-any.whl size=4048 sha256=a0be3ab8c929ade6f06458d84758f785dcbeaff1dc5eb1a2eb8a5a960627348c\n",
      "  Stored in directory: c:\\users\\annyu\\appdata\\local\\pip\\cache\\wheels\\50\\37\\21\\0a719b9d89c635e89ff24bd93b862882ad675279552013b2fb\n",
      "Successfully built autograd-gamma\n",
      "Installing collected packages: scipy, python-utils, lightning-utilities, interface-meta, autograd, progressbar2, autograd-gamma, torchmetrics, pygam, formulaic, pytorch-lightning, lifelines, ISLP\n",
      "  Attempting uninstall: scipy\n",
      "    Found existing installation: scipy 1.13.1\n",
      "    Uninstalling scipy-1.13.1:\n",
      "      Successfully uninstalled scipy-1.13.1\n",
      "Successfully installed ISLP-0.4.0 autograd-1.7.0 autograd-gamma-0.5.0 formulaic-1.0.2 interface-meta-1.3.0 lifelines-0.30.0 lightning-utilities-0.11.9 progressbar2-4.5.0 pygam-0.9.1 python-utils-3.9.1 pytorch-lightning-2.4.0 scipy-1.11.4 torchmetrics-1.6.0\n"
     ]
    }
   ],
   "source": [
    "!pip install ISLP"
   ]
  },
  {
   "cell_type": "code",
   "execution_count": 322,
   "id": "9f6126f2-a0b5-4600-b177-bf6ffc35b345",
   "metadata": {},
   "outputs": [],
   "source": [
    "import ISLP"
   ]
  },
  {
   "cell_type": "code",
   "execution_count": 339,
   "id": "d5f9a1ab-0aed-4bea-b346-89990ed8c71b",
   "metadata": {},
   "outputs": [
    {
     "name": "stderr",
     "output_type": "stream",
     "text": [
      "C:\\Users\\annyu\\AppData\\Local\\Temp\\ipykernel_3728\\1110864295.py:3: FutureWarning: Series.__getitem__ treating keys as positions is deprecated. In a future version, integer keys will always be treated as labels (consistent with DataFrame behavior). To access a value by position, use `ser.iloc[pos]`\n",
      "  X1 = torch.tensor(Auto[\"horsepower\"], dtype=torch.float32)\n",
      "C:\\Users\\annyu\\AppData\\Local\\Temp\\ipykernel_3728\\1110864295.py:4: FutureWarning: Series.__getitem__ treating keys as positions is deprecated. In a future version, integer keys will always be treated as labels (consistent with DataFrame behavior). To access a value by position, use `ser.iloc[pos]`\n",
      "  X2 = torch.tensor(Auto[\"cylinders\"], dtype=torch.float32)\n",
      "C:\\Users\\annyu\\AppData\\Local\\Temp\\ipykernel_3728\\1110864295.py:5: FutureWarning: Series.__getitem__ treating keys as positions is deprecated. In a future version, integer keys will always be treated as labels (consistent with DataFrame behavior). To access a value by position, use `ser.iloc[pos]`\n",
      "  Y = torch.tensor(Auto[\"mpg\"], dtype=torch.float32).reshape([-1,1])\n"
     ]
    }
   ],
   "source": [
    "Auto = ISLP.load_data(\"Auto\")\n",
    "\n",
    "X1 = torch.tensor(Auto[\"horsepower\"], dtype=torch.float32)\n",
    "X2 = torch.tensor(Auto[\"cylinders\"], dtype=torch.float32)\n",
    "Y = torch.tensor(Auto[\"mpg\"], dtype=torch.float32).reshape([-1,1])"
   ]
  },
  {
   "cell_type": "code",
   "execution_count": 343,
   "id": "8c223911-1ee8-4467-a9ce-a102ae43e8cc",
   "metadata": {},
   "outputs": [
    {
     "data": {
      "text/plain": [
       "torch.Size([392, 1])"
      ]
     },
     "execution_count": 343,
     "metadata": {},
     "output_type": "execute_result"
    }
   ],
   "source": [
    "Y.shape"
   ]
  },
  {
   "cell_type": "code",
   "execution_count": 345,
   "id": "8d8f0494-a13d-486c-a600-9f67ce841be9",
   "metadata": {},
   "outputs": [],
   "source": [
    "# normalization\n",
    "uy, stdy = torch.mean(Y), torch.std(Y)\n",
    "Y_normal = (Y-uy)/stdy\n",
    "\n",
    "X = torch.stack([X1, X2], axis=1)\n",
    "ux, stdx = torch.mean(X, axis=0), torch.std(X, axis=0)\n",
    "X_normal = (X-ux)/stdx "
   ]
  },
  {
   "cell_type": "code",
   "execution_count": 347,
   "id": "d4a593bb-5e86-447e-881f-7cd09b49cba1",
   "metadata": {},
   "outputs": [],
   "source": [
    "from torch.utils.data import Dataset, DataLoader, TensorDataset"
   ]
  },
  {
   "cell_type": "code",
   "execution_count": 349,
   "id": "24e8bcfb-b78e-4958-93cc-acef626985fb",
   "metadata": {},
   "outputs": [],
   "source": [
    "dataset = TensorDataset(X_normal,Y_normal)\n",
    "trainloader = DataLoader(dataset=dataset, batch_size=10, shuffle=True)"
   ]
  },
  {
   "cell_type": "code",
   "execution_count": 351,
   "id": "070c11c0-d02f-44d4-a379-322f421437df",
   "metadata": {},
   "outputs": [],
   "source": [
    "model = torch.nn.Linear(2, 1, bias=True)\n",
    "optimizer = torch.optim.SGD(model.parameters(), lr=0.001)\n",
    "\n",
    "def criterion(yhat, y):\n",
    "  return torch.mean((yhat-y)**2)\n",
    "\n",
    "epochs = 300\n",
    "n = len(trainloader.dataset) # 500\n",
    "history = []\n",
    "\n",
    "for epoch in range(epochs):\n",
    "  LOSS = 0\n",
    "  for x,y in trainloader:\n",
    "    yhat = model(x)\n",
    "    loss = criterion(yhat, y)\n",
    "    LOSS += loss* len(x)\n",
    "    optimizer.zero_grad()\n",
    "    loss.backward()\n",
    "    optimizer.step()\n",
    "  history.append(LOSS.item()/n)"
   ]
  },
  {
   "cell_type": "code",
   "execution_count": 352,
   "id": "0320927d-49ff-4584-9581-66e8c5b46d45",
   "metadata": {},
   "outputs": [
    {
     "data": {
      "text/plain": [
       "[<matplotlib.lines.Line2D at 0x1c8a1232180>]"
      ]
     },
     "execution_count": 352,
     "metadata": {},
     "output_type": "execute_result"
    },
    {
     "data": {
      "image/png": "[encoded data removed]",
      "text/plain": [
       "<Figure size 640x480 with 1 Axes>"
      ]
     },
     "metadata": {},
     "output_type": "display_data"
    }
   ],
   "source": [
    "import matplotlib.pyplot as plt\n",
    "plt.plot(history)"
   ]
  },
  {
   "cell_type": "code",
   "execution_count": 355,
   "id": "d6e417d8-8fbe-4797-8f86-825cb0bf7ecd",
   "metadata": {},
   "outputs": [
    {
     "data": {
      "text/plain": [
       "tensor(0.3422, grad_fn=<MeanBackward0>)"
      ]
     },
     "execution_count": 355,
     "metadata": {},
     "output_type": "execute_result"
    }
   ],
   "source": [
    "# MSE loss\n",
    "Yhat = model(X_normal)\n",
    "criterion(Yhat, Y_normal)"
   ]
  },
  {
   "cell_type": "code",
   "execution_count": 357,
   "id": "05f0f708-3cf6-4030-9b34-444c2d062560",
   "metadata": {},
   "outputs": [
    {
     "data": {
      "text/plain": [
       "tensor(0.3422, grad_fn=<DivBackward0>)"
      ]
     },
     "execution_count": 357,
     "metadata": {},
     "output_type": "execute_result"
    }
   ],
   "source": [
    "# MSE loss => 데이터 수가 많기 때문에 보통 이 방법으로 계산해\n",
    "LOSS = 0\n",
    "for xx, yy in trainloader:\n",
    "  yhat = model(xx)\n",
    "  loss = criterion(yhat, yy)\n",
    "  LOSS += loss * len(xx)\n",
    "LOSS = LOSS/n\n",
    "LOSS"
   ]
  }
 ],
 "metadata": {
  "kernelspec": {
   "display_name": "Python 3 (ipykernel)",
   "language": "python",
   "name": "python3"
  },
  "language_info": {
   "codemirror_mode": {
    "name": "ipython",
    "version": 3
   },
   "file_extension": ".py",
   "mimetype": "text/x-python",
   "name": "python",
   "nbconvert_exporter": "python",
   "pygments_lexer": "ipython3",
   "version": "3.12.7"
  }
 },
 "nbformat": 4,
 "nbformat_minor": 5
}
