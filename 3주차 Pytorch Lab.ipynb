{
 "cells": [
  {
   "cell_type": "markdown",
   "id": "afd37145-50c6-4045-a95c-b33295e7531f",
   "metadata": {},
   "source": [
    "(1) Pytorch Lab : Basic operation"
   ]
  },
  {
   "cell_type": "code",
   "execution_count": 300,
   "id": "1346e2b4-5d5e-4c49-9f92-adb97af320a5",
   "metadata": {},
   "outputs": [],
   "source": [
    "import torch\n",
    "import numpy as np"
   ]
  },
  {
   "cell_type": "code",
   "execution_count": 301,
   "id": "55bf835d-cb32-4a23-8ba5-18235aaef426",
   "metadata": {},
   "outputs": [
    {
     "data": {
      "text/plain": [
       "tensor([[0.3925, 0.9289],\n",
       "        [0.4601, 0.8203]])"
      ]
     },
     "execution_count": 301,
     "metadata": {},
     "output_type": "execute_result"
    }
   ],
   "source": [
    "torch.rand([2,2])  # Unif[0,1]에서 random number"
   ]
  },
  {
   "cell_type": "code",
   "execution_count": 302,
   "id": "e3d1ad26-0f06-424e-91a2-b3fff4d7806b",
   "metadata": {},
   "outputs": [
    {
     "data": {
      "text/plain": [
       "device(type='cpu')"
      ]
     },
     "execution_count": 302,
     "metadata": {},
     "output_type": "execute_result"
    }
   ],
   "source": [
    "a = torch.tensor([2]).to('cpu')\n",
    "a.device"
   ]
  },
  {
   "cell_type": "code",
   "execution_count": 303,
   "id": "a5d76307-2a7e-4e64-b77a-daec88480f9e",
   "metadata": {},
   "outputs": [
    {
     "data": {
      "text/plain": [
       "tensor([[0.8929, 0.1146, 0.1940, 0.5099],\n",
       "        [0.9805, 0.4789, 0.0567, 0.9517],\n",
       "        [0.4771, 0.7531, 0.9178, 0.2216],\n",
       "        [0.3274, 0.1647, 0.3386, 0.1719]])"
      ]
     },
     "execution_count": 303,
     "metadata": {},
     "output_type": "execute_result"
    }
   ],
   "source": [
    "tensor = torch.rand([4, 4])\n",
    "tensor"
   ]
  },
  {
   "cell_type": "code",
   "execution_count": 304,
   "id": "f03ba0cc-39ac-45da-87c2-c3d526c51540",
   "metadata": {},
   "outputs": [
    {
     "name": "stdout",
     "output_type": "stream",
     "text": [
      "torch.Size([8, 4])\n",
      "torch.Size([4, 8])\n"
     ]
    }
   ],
   "source": [
    "t1 = torch.cat([tensor, tensor], axis=0) #join a sequence of arrays along an existing axis.\n",
    "print(t1.shape)\n",
    "t2 = torch.cat([tensor, tensor], axis=1) #join a sequence of arrays along an existing axis.\n",
    "print(t2.shape)\n",
    "# numpy에서는 np.concatenate"
   ]
  },
  {
   "cell_type": "code",
   "execution_count": 305,
   "id": "05606a21-fa7c-421e-9617-4a0d2cb3e421",
   "metadata": {},
   "outputs": [
    {
     "name": "stdout",
     "output_type": "stream",
     "text": [
      "torch.Size([2, 4, 4])\n",
      "torch.Size([4, 4, 2])\n"
     ]
    }
   ],
   "source": [
    "t3 = torch.stack([tensor, tensor], axis=0) #Join a sequence of arrays along a new axis.\n",
    "print(t3.shape) # (1,4,4) + (1,4,4) = (2,4,4)\n",
    "\n",
    "t4 = torch.stack([tensor, tensor], axis=2) #Join a sequence of arrays along a new axis.\n",
    "print(t4.shape) # (4,4,1) + (4,4,1) = (4,4,2)\n",
    "# numpy에서도 np.stack"
   ]
  },
  {
   "cell_type": "code",
   "execution_count": 306,
   "id": "b4be0d26-0d22-47c1-a7a7-19de3b2a489e",
   "metadata": {},
   "outputs": [],
   "source": [
    "a1 = torch.tensor([[1,1],\n",
    "                   [0,2.0]])\n",
    "a2 = torch.tensor([[1,1],\n",
    "                   [0,2.0]])"
   ]
  },
  {
   "cell_type": "code",
   "execution_count": 307,
   "id": "bf9f3862-41a3-4c3e-8ee4-9382a25abdfb",
   "metadata": {},
   "outputs": [
    {
     "name": "stdout",
     "output_type": "stream",
     "text": [
      "tensor([[1., 3.],\n",
      "        [0., 4.]])\n"
     ]
    },
    {
     "data": {
      "text/plain": [
       "tensor([[1., 3.],\n",
       "        [0., 4.]])"
      ]
     },
     "execution_count": 307,
     "metadata": {},
     "output_type": "execute_result"
    }
   ],
   "source": [
    "print(a1@a2)\n",
    "a1.matmul(a2)"
   ]
  },
  {
   "cell_type": "code",
   "execution_count": 308,
   "id": "22253a92-56a8-4591-ae37-2407b8f1bca3",
   "metadata": {},
   "outputs": [
    {
     "data": {
      "text/plain": [
       "4.0"
      ]
     },
     "execution_count": 308,
     "metadata": {},
     "output_type": "execute_result"
    }
   ],
   "source": [
    "agg = a1.sum()\n",
    "agg.item() # tensor 앞에 없이 값만 가져오도록\n",
    "# 원소 한 개짜리일때만 가능!"
   ]
  },
  {
   "cell_type": "code",
   "execution_count": 309,
   "id": "3268f617-cc49-4926-b181-25888d7e7dcb",
   "metadata": {},
   "outputs": [
    {
     "name": "stdout",
     "output_type": "stream",
     "text": [
      "tensor([1., 1., 1., 1., 1.])\n",
      "[1. 1. 1. 1. 1.]\n"
     ]
    }
   ],
   "source": [
    "t = torch.ones(5)\n",
    "print(t)\n",
    "a = t.numpy()\n",
    "print(a)"
   ]
  },
  {
   "cell_type": "code",
   "execution_count": 310,
   "id": "e37e6fbf-228a-4f31-8b03-ac773654c869",
   "metadata": {},
   "outputs": [
    {
     "name": "stdout",
     "output_type": "stream",
     "text": [
      "t: tensor([ 1.,  1.,  1., 10.,  1.])\n",
      "a: [ 1.  1.  1. 10.  1.]\n"
     ]
    }
   ],
   "source": [
    "t[3]=10\n",
    "print(f\"t: {t}\")\n",
    "print(f\"a: {a}\")  # 원본이 바뀌어 복사본도 바뀌었다"
   ]
  },
  {
   "cell_type": "code",
   "execution_count": 311,
   "id": "25dc8364-5127-4bb6-863f-ae091c0992dc",
   "metadata": {},
   "outputs": [],
   "source": [
    "n = np.ones(5)\n",
    "t = torch.tensor(n)"
   ]
  },
  {
   "cell_type": "code",
   "execution_count": 312,
   "id": "b5e57ed8-bdc5-438d-918c-43f7fdcc5255",
   "metadata": {},
   "outputs": [
    {
     "name": "stdout",
     "output_type": "stream",
     "text": [
      "tensor([1., 1., 1., 1., 1.], dtype=torch.float64)\n",
      "[ 1. 10.  1.  1.  1.]\n"
     ]
    }
   ],
   "source": [
    "n[1]=10\n",
    "print(t) # 원본 그대로 유지돼\n",
    "print(n)"
   ]
  },
  {
   "cell_type": "code",
   "execution_count": 313,
   "id": "322a1430-7fa4-40a3-a96a-a4a0d34d8e54",
   "metadata": {},
   "outputs": [
    {
     "data": {
      "text/plain": [
       "tensor([[1.2573, 1.2902],\n",
       "        [0.3540, 1.2680],\n",
       "        [1.7735, 1.1680],\n",
       "        [0.5555, 0.5422],\n",
       "        [0.6866, 0.6735]])"
      ]
     },
     "execution_count": 313,
     "metadata": {},
     "output_type": "execute_result"
    }
   ],
   "source": [
    "length = 5\n",
    "x = 2*torch.rand([length,2])\n",
    "x"
   ]
  },
  {
   "cell_type": "code",
   "execution_count": 314,
   "id": "2fad0909-7856-42a8-baf8-fdcfd011e510",
   "metadata": {},
   "outputs": [
    {
     "data": {
      "text/plain": [
       "tensor([2.5475, 1.6220, 2.9415, 1.0977, 1.3600])"
      ]
     },
     "execution_count": 314,
     "metadata": {},
     "output_type": "execute_result"
    }
   ],
   "source": [
    "y = torch.sum(x, axis=1)\n",
    "y"
   ]
  },
  {
   "cell_type": "code",
   "execution_count": 315,
   "id": "af9f2553-d7e3-4b7b-a68d-5d75a4e68a98",
   "metadata": {},
   "outputs": [],
   "source": [
    "from torch.utils.data import TensorDataset, DataLoader\n",
    "mydata = TensorDataset(x,y) # 길이가 같은 x,y를 묶어준다"
   ]
  },
  {
   "cell_type": "code",
   "execution_count": 316,
   "id": "90044270-14c6-4a6e-baac-1079fe718c12",
   "metadata": {},
   "outputs": [
    {
     "data": {
      "text/plain": [
       "(tensor([1.2573, 1.2902]), tensor(2.5475))"
      ]
     },
     "execution_count": 316,
     "metadata": {},
     "output_type": "execute_result"
    }
   ],
   "source": [
    "mydata[0]"
   ]
  },
  {
   "cell_type": "code",
   "execution_count": 317,
   "id": "8bc8461b-f097-4d2e-9347-1feac54c423e",
   "metadata": {},
   "outputs": [
    {
     "name": "stdout",
     "output_type": "stream",
     "text": [
      "tensor([[0.3540, 1.2680],\n",
      "        [1.7735, 1.1680]]) tensor([1.6220, 2.9415])\n"
     ]
    }
   ],
   "source": [
    "xx, yy = mydata[1:3]\n",
    "print(xx, yy)"
   ]
  },
  {
   "cell_type": "code",
   "execution_count": 318,
   "id": "13fb1e23-029c-404e-9eb0-9e014cc1d384",
   "metadata": {},
   "outputs": [
    {
     "name": "stdout",
     "output_type": "stream",
     "text": [
      "tensor([[0.4662, 0.9467],\n",
      "        [0.3608, 0.0373],\n",
      "        [0.0852, 0.7634],\n",
      "        [0.9327, 0.1092],\n",
      "        [0.3002, 0.0648]]) tensor([7, 0, 0, 9, 2])\n"
     ]
    }
   ],
   "source": [
    "# Ex 1\n",
    "from torch.utils.data import TensorDataset, DataLoader\n",
    "X = torch.rand([5,2])\n",
    "Y = torch.randint(low=0, high=10, size=[5])\n",
    "print(X, Y)"
   ]
  },
  {
   "cell_type": "code",
   "execution_count": 319,
   "id": "656ff599-29f8-45aa-93ed-deaf5c24d8c1",
   "metadata": {},
   "outputs": [],
   "source": [
    "mydata = TensorDataset(X, Y)"
   ]
  },
  {
   "cell_type": "code",
   "execution_count": 320,
   "id": "1dc029eb-b288-4f3c-9956-cbef2e689fbe",
   "metadata": {},
   "outputs": [],
   "source": [
    "trainloader = DataLoader(dataset = mydata, batch_size=1, shuffle=False)"
   ]
  },
  {
   "cell_type": "code",
   "execution_count": 321,
   "id": "0a3b298a-e6ac-4218-80ef-9b79208f7181",
   "metadata": {},
   "outputs": [
    {
     "name": "stdout",
     "output_type": "stream",
     "text": [
      "xx= tensor([[0.4662, 0.9467]]) ,     yy = tensor([7])\n",
      "xx= tensor([[0.3608, 0.0373]]) ,     yy = tensor([0])\n",
      "xx= tensor([[0.0852, 0.7634]]) ,     yy = tensor([0])\n",
      "xx= tensor([[0.9327, 0.1092]]) ,     yy = tensor([9])\n",
      "xx= tensor([[0.3002, 0.0648]]) ,     yy = tensor([2])\n"
     ]
    }
   ],
   "source": [
    "for xx, yy in trainloader:\n",
    "    print('xx=', xx, ',     yy =', yy)"
   ]
  },
  {
   "cell_type": "code",
   "execution_count": 322,
   "id": "f23711ea-5198-4745-b1e8-0d8d4a00bf5d",
   "metadata": {},
   "outputs": [],
   "source": [
    "trainloader = DataLoader(dataset = mydata, batch_size=2, shuffle=True)"
   ]
  },
  {
   "cell_type": "code",
   "execution_count": 323,
   "id": "ad034305-b4a8-402e-b06e-aaaa06ca50f4",
   "metadata": {},
   "outputs": [
    {
     "name": "stdout",
     "output_type": "stream",
     "text": [
      "xx= tensor([[0.3002, 0.0648],\n",
      "        [0.4662, 0.9467]]) ,     yy = tensor([2, 7])\n",
      "xx= tensor([[0.9327, 0.1092],\n",
      "        [0.3608, 0.0373]]) ,     yy = tensor([9, 0])\n",
      "xx= tensor([[0.0852, 0.7634]]) ,     yy = tensor([0])\n"
     ]
    }
   ],
   "source": [
    "for xx, yy in trainloader:\n",
    "    print('xx=', xx, ',     yy =', yy)"
   ]
  },
  {
   "cell_type": "code",
   "execution_count": 324,
   "id": "7fd55f28-8bb0-46bc-8a86-dbdbe728e26c",
   "metadata": {},
   "outputs": [],
   "source": [
    "# x = [1,2,3,4,5,6] --> 무작위로 2개씩 추출하는 프로그램을 짜세요.\n",
    "X = torch.tensor([1,2,3,4,5,6])\n",
    "mydata = TensorDataset(X)\n",
    "trainloader = DataLoader(dataset = mydata, batch_size=2, shuffle=True)"
   ]
  },
  {
   "cell_type": "code",
   "execution_count": 325,
   "id": "9f954ee2-97d6-405f-a1fd-c37e256f8aac",
   "metadata": {},
   "outputs": [
    {
     "name": "stdout",
     "output_type": "stream",
     "text": [
      "[tensor([6, 3])]\n",
      "[tensor([4, 1])]\n",
      "[tensor([2, 5])]\n"
     ]
    }
   ],
   "source": [
    "for xx in trainloader:\n",
    "    print(xx)"
   ]
  },
  {
   "cell_type": "markdown",
   "id": "55824de6-fdd7-4e11-9fbc-7ad68a072d77",
   "metadata": {},
   "source": [
    "(2) Pytorch Lab : Derivative"
   ]
  },
  {
   "cell_type": "markdown",
   "id": "cbc98cf0-e2da-4f72-9297-d101f6031925",
   "metadata": {},
   "source": [
    "Determine the derivative of\n",
    "\n",
    "$ y = 2x^3+x $   at   $x=1$.\n"
   ]
  },
  {
   "cell_type": "code",
   "execution_count": 328,
   "id": "929c5ed8-95a9-4323-a552-2ae862392e32",
   "metadata": {},
   "outputs": [
    {
     "data": {
      "text/plain": [
       "tensor(7.)"
      ]
     },
     "execution_count": 328,
     "metadata": {},
     "output_type": "execute_result"
    }
   ],
   "source": [
    "x = torch.tensor(1., requires_grad=True) # 미분할 것들은 True로 설정해야해 #every operation on them should be tracked\n",
    "y = 2 * x ** 3 + x\n",
    "y.backward() # x로 미분할 거라 위에서 설정해놨기 때문에 x로 알아서 미분해 # calculate derivatives and stores them in the respective tensors' .grad \n",
    "x.grad"
   ]
  },
  {
   "cell_type": "code",
   "execution_count": 329,
   "id": "48e0748a-5b47-4d74-8911-3fc5b2852548",
   "metadata": {},
   "outputs": [
    {
     "data": {
      "text/plain": [
       "tensor(140.5988)"
      ]
     },
     "execution_count": 329,
     "metadata": {},
     "output_type": "execute_result"
    }
   ],
   "source": [
    "x = torch.tensor(1., requires_grad=True) #every operation on them should be tracked\n",
    "y = 2 * x ** 3 + x\n",
    "z = torch.exp(y)\n",
    "z.backward()\n",
    "x.grad  # np.exp(3)*7"
   ]
  },
  {
   "cell_type": "code",
   "execution_count": 330,
   "id": "aa528e70-defb-4415-b9d6-8ccb794dc7ad",
   "metadata": {},
   "outputs": [
    {
     "name": "stdout",
     "output_type": "stream",
     "text": [
      "tensor(1.) tensor(1., requires_grad=True)\n"
     ]
    }
   ],
   "source": [
    "print(x.data, x)"
   ]
  },
  {
   "cell_type": "markdown",
   "id": "f7d9d55e-833c-49f5-ab8e-7a28b391539c",
   "metadata": {},
   "source": [
    "partial derivative  \n",
    "1) $ f=uv+(uv)^2$\n",
    "* Calculate grad of $u$ at $u=2$ and $v=1$: $ f=uv+(uv)^2$"
   ]
  },
  {
   "cell_type": "code",
   "execution_count": 332,
   "id": "82a6419a-657d-421d-8879-c230cbb134ef",
   "metadata": {},
   "outputs": [
    {
     "name": "stdout",
     "output_type": "stream",
     "text": [
      "tensor(5.) tensor(10.)\n"
     ]
    }
   ],
   "source": [
    "# derivative of f = u * v + (u * v) ** 2 at u = 2, v = 1\n",
    "# df/du = v + 2*u*v*v = 1+2*2*1*1=5, df/dv = u + 2*u*v*u = 2+2*2*1*2 = 10\n",
    "\n",
    "u = torch.tensor(2., requires_grad=True)\n",
    "v = torch.tensor(1., requires_grad=True)\n",
    "y = u*v + (u*v)**2\n",
    "y.backward()  # dy/du, dy/dv 를 (u,v)=(2,1)에서 계산해 어딘가에 저장\n",
    "print(u.grad, v.grad)"
   ]
  },
  {
   "cell_type": "markdown",
   "id": "0a9fe1d5-27f1-4735-a021-da40c08bbb88",
   "metadata": {},
   "source": [
    "2) $y=\\exp(2x_1)+x_2^2$.\n",
    "\n",
    "* Calculate $\\triangledown y = \\left( \\frac{\\delta y}{\\delta x_1},\n",
    "\\frac{\\delta y}{\\delta x_2} \\right)$ at $x_1=1.0$ and $x_2=2.0$."
   ]
  },
  {
   "cell_type": "code",
   "execution_count": 334,
   "id": "a54b1e8f-218f-4a03-930b-f7ef2fb9de34",
   "metadata": {},
   "outputs": [
    {
     "data": {
      "text/plain": [
       "tensor([14.7781,  4.0000])"
      ]
     },
     "execution_count": 334,
     "metadata": {},
     "output_type": "execute_result"
    }
   ],
   "source": [
    "x = torch.tensor([1.0,2.0], requires_grad=True)\n",
    "y = torch.exp(2*x[0])+x[1]**2\n",
    "y.backward()\n",
    "x.grad"
   ]
  },
  {
   "cell_type": "markdown",
   "id": "583f1d03-fdd0-4d4d-825e-1be6302777dd",
   "metadata": {},
   "source": [
    "3) $f(x_1, x_2)=(x_1+2x_2^3)^2$.\n",
    "\n",
    "* Calculate grad $f$ at $(x_1, x_2)=(1,2)$."
   ]
  },
  {
   "cell_type": "code",
   "execution_count": 336,
   "id": "a4a24d17-eae4-4d8e-ba91-f9fdba237a0d",
   "metadata": {},
   "outputs": [
    {
     "data": {
      "text/plain": [
       "tensor([ 34., 816.])"
      ]
     },
     "execution_count": 336,
     "metadata": {},
     "output_type": "execute_result"
    }
   ],
   "source": [
    "x = torch.tensor([1.0, 2.0], requires_grad=True)\n",
    "f = (x[0]+2*x[1]**3)**2\n",
    "f.backward()\n",
    "x.grad"
   ]
  },
  {
   "cell_type": "code",
   "execution_count": 337,
   "id": "aa65a0db-b800-41f5-a45e-537b1228c30c",
   "metadata": {},
   "outputs": [
    {
     "data": {
      "text/plain": [
       "tensor([[ 34., 816.]])"
      ]
     },
     "execution_count": 337,
     "metadata": {},
     "output_type": "execute_result"
    }
   ],
   "source": [
    "x = torch.tensor([[1.0, 2.0]], requires_grad=True)  # x를 matrix로 만들\n",
    "f = (x[0,0]+2*x[0,1]**3)**2\n",
    "f.backward()\n",
    "x.grad"
   ]
  },
  {
   "cell_type": "markdown",
   "id": "63d374af-363d-4de0-95c2-ae65dd78a120",
   "metadata": {},
   "source": [
    "4) $f(x)=x_1^2+2x_2$ and $g(t)=\\begin{pmatrix} \\sin(t) \\\\ \\cos(t)\\end{pmatrix}.$\n",
    "* Calculate $ \\frac{d}{dt} f(g(t))$ at $t = 1$"
   ]
  },
  {
   "cell_type": "code",
   "execution_count": 339,
   "id": "737ce684-33fd-429a-b488-ac082c66794f",
   "metadata": {},
   "outputs": [
    {
     "data": {
      "text/plain": [
       "tensor([-0.7736])"
      ]
     },
     "execution_count": 339,
     "metadata": {},
     "output_type": "execute_result"
    }
   ],
   "source": [
    "t = torch.tensor([1.0], requires_grad=True)\n",
    "g = torch.stack([torch.sin(t), torch.cos(t)])  # torch.tensor로 이어주면 안돼 # torch.cat도 가능\n",
    "f = g[0]**2 + 2*g[1]\n",
    "f.backward()\n",
    "t.grad"
   ]
  },
  {
   "cell_type": "code",
   "execution_count": 340,
   "id": "7222a762-247a-4461-b877-7aed5f69d056",
   "metadata": {},
   "outputs": [
    {
     "data": {
      "text/plain": [
       "tensor([-0.7736])"
      ]
     },
     "execution_count": 340,
     "metadata": {},
     "output_type": "execute_result"
    }
   ],
   "source": [
    "t = torch.tensor([1.0], requires_grad=True)\n",
    "g = [torch.sin(t), torch.cos(t)] # 그냥 list로 묶어줘도 돼\n",
    "f = g[0]**2 + 2*g[1]\n",
    "f.backward()\n",
    "t.grad"
   ]
  }
 ],
 "metadata": {
  "kernelspec": {
   "display_name": "Python 3 (ipykernel)",
   "language": "python",
   "name": "python3"
  },
  "language_info": {
   "codemirror_mode": {
    "name": "ipython",
    "version": 3
   },
   "file_extension": ".py",
   "mimetype": "text/x-python",
   "name": "python",
   "nbconvert_exporter": "python",
   "pygments_lexer": "ipython3",
   "version": "3.12.7"
  }
 },
 "nbformat": 4,
 "nbformat_minor": 5
}
