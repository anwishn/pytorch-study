{
 "cells": [
  {
   "cell_type": "markdown",
   "metadata": {
    "id": "j3KQJkD_8LST"
   },
   "source": [
    "1주차. Numpy"
   ]
  },
  {
   "cell_type": "markdown",
   "metadata": {
    "id": "b4Hx6sZQ_dG1"
   },
   "source": [
    "(1) Basic operation"
   ]
  },
  {
   "cell_type": "code",
   "execution_count": 1,
   "metadata": {
    "colab": {
     "base_uri": "https://localhost:8080/"
    },
    "id": "TrusGYAH8J7K",
    "outputId": "5f90605e-78a3-432b-a512-b489304a6484"
   },
   "outputs": [
    {
     "name": "stdout",
     "output_type": "stream",
     "text": [
      "[1 2 3 4 5 6]\n",
      "[[1 2 3]\n",
      " [4 5 6]]\n",
      "[[3. 4. 5.]\n",
      " [6. 7. 8.]]\n"
     ]
    }
   ],
   "source": [
    "import numpy as np\n",
    "a = np.array([1,2,3,4,5,6])\n",
    "print(a)\n",
    "A = np.array([[1,2,3],[4,5,6]])\n",
    "B = np.array([[3,4,5],[6,7,8.0]])\n",
    "print(A)\n",
    "print(B)"
   ]
  },
  {
   "cell_type": "code",
   "execution_count": 2,
   "metadata": {
    "colab": {
     "base_uri": "https://localhost:8080/"
    },
    "id": "G9ttuANh8hhS",
    "outputId": "7c28042e-531d-4d8f-9bf7-f76eca4b7488"
   },
   "outputs": [
    {
     "name": "stdout",
     "output_type": "stream",
     "text": [
      "2\n",
      "(2, 3)\n",
      "6\n",
      "[[1 4]\n",
      " [2 5]\n",
      " [3 6]]\n",
      "int32\n",
      "float64\n",
      "float64\n"
     ]
    }
   ],
   "source": [
    "print(A.ndim) # 차원\n",
    "print(A.shape) # 행, 열의 수\n",
    "print(A.size) # 데이터 개수\n",
    "print(A.T) # transpose\n",
    "print(A.dtype) # 데이터 타입\n",
    "print(B.dtype) # float64\n",
    "\n",
    "A = np.array([[1,2,3],[4,5,6]], dtype=np.float64) # 데이터 타입 변경 가능\n",
    "print(A.dtype)"
   ]
  },
  {
   "cell_type": "code",
   "execution_count": 3,
   "metadata": {
    "colab": {
     "base_uri": "https://localhost:8080/"
    },
    "id": "H49o9XZj9cpF",
    "outputId": "2e762003-c53c-4c42-8a27-86a0c66c6bd5"
   },
   "outputs": [
    {
     "data": {
      "text/plain": [
       "array([0. , 0.2, 0.4, 0.6, 0.8])"
      ]
     },
     "execution_count": 3,
     "metadata": {},
     "output_type": "execute_result"
    }
   ],
   "source": [
    "np.arange(0,1,0.2) # (start), stop, (step)  # 마지막 stop 수는 포함하지 않아!!!!!!!"
   ]
  },
  {
   "cell_type": "code",
   "execution_count": 4,
   "metadata": {
    "colab": {
     "base_uri": "https://localhost:8080/"
    },
    "id": "Quv30YPR94I8",
    "outputId": "bd0d194b-7147-4d0b-aa1f-7e3c1e4147a1"
   },
   "outputs": [
    {
     "data": {
      "text/plain": [
       "array([ 0.,  1.,  2.,  3.,  4.,  5.,  6.,  7.,  8.,  9., 10.])"
      ]
     },
     "execution_count": 4,
     "metadata": {},
     "output_type": "execute_result"
    }
   ],
   "source": [
    "np.linspace(0,10, num=11) # start, stop, number   # 마지막 stop 수 포함해!!!!!"
   ]
  },
  {
   "cell_type": "code",
   "execution_count": 5,
   "metadata": {
    "colab": {
     "base_uri": "https://localhost:8080/"
    },
    "id": "pHqPnFan-JmY",
    "outputId": "d8bf8a08-5d34-4c58-d9a3-37e663ce7723"
   },
   "outputs": [
    {
     "data": {
      "text/plain": [
       "array([[ 1,  2,  3,  4,  5],\n",
       "       [ 6,  7,  8,  9, 10],\n",
       "       [11, 12, 13, 14, 15],\n",
       "       [16, 17, 18, 19, 20]])"
      ]
     },
     "execution_count": 5,
     "metadata": {},
     "output_type": "execute_result"
    }
   ],
   "source": [
    "A = np.arange(1,21)\n",
    "B = A.reshape([4,5])\n",
    "B"
   ]
  },
  {
   "cell_type": "code",
   "execution_count": 6,
   "metadata": {
    "colab": {
     "base_uri": "https://localhost:8080/"
    },
    "id": "-4l-4mXn_Ilu",
    "outputId": "e3cbba87-9a76-41b3-e4d1-a04ac030a7d7"
   },
   "outputs": [
    {
     "data": {
      "text/plain": [
       "array([[3., 3.],\n",
       "       [3., 3.]])"
      ]
     },
     "execution_count": 6,
     "metadata": {},
     "output_type": "execute_result"
    }
   ],
   "source": [
    "A = np.ones([3,2])\n",
    "B = np.ones([2,3])\n",
    "np.dot(A, B)\n",
    "B @ A"
   ]
  },
  {
   "cell_type": "markdown",
   "metadata": {
    "id": "Rh1o4wek_gS3"
   },
   "source": [
    "(2) Slicing"
   ]
  },
  {
   "cell_type": "code",
   "execution_count": 7,
   "metadata": {
    "id": "w5IzyEt_BdWy"
   },
   "outputs": [],
   "source": [
    "A = np.arange(1,21)\n",
    "B = A.reshape([4,5])"
   ]
  },
  {
   "cell_type": "code",
   "execution_count": 8,
   "metadata": {
    "colab": {
     "base_uri": "https://localhost:8080/"
    },
    "id": "8vhdar3n_hzJ",
    "outputId": "02ed1ed7-0b48-4492-b8bd-6e2fd63c7045"
   },
   "outputs": [
    {
     "name": "stdout",
     "output_type": "stream",
     "text": [
      "[[ 6  7  8  9 10]]\n",
      "[ 6  7  8  9 10]\n"
     ]
    }
   ],
   "source": [
    "# row 가져오기 (B[:2, :] 이런식으로 해도 )\n",
    "B[:2] # 0번째 element부터 2번째 element 바로 앞까지\n",
    "B[-2:] # 마지막 원소 index가 -1 # 전전 원소부터 끝까지\n",
    "print(B[1:2]) # matrix # 1번째 원소만 가져오되 차원 유지 # array([[6,7,8,9,10]])\n",
    "print(B[1])   # vector # 1번째 원소만 가져오기. 차원 낮아짐 # array([6,7,8,9,10])"
   ]
  },
  {
   "cell_type": "code",
   "execution_count": 9,
   "metadata": {
    "colab": {
     "base_uri": "https://localhost:8080/"
    },
    "id": "Eh3vAYbOAg9l",
    "outputId": "a18e607d-ff3c-413a-e81b-bbb3c0bb0909"
   },
   "outputs": [
    {
     "name": "stdout",
     "output_type": "stream",
     "text": [
      "[0 1 2 3 4 5 6 7 8 9]\n",
      "[2]\n",
      "2\n"
     ]
    }
   ],
   "source": [
    "a = np.arange(10)\n",
    "print(a)\n",
    "print(a[2:3]) # slicing = dim이 바뀌지 않는다.\n",
    "print(a[2]) # dim이 바뀐다. element만 가져온다."
   ]
  },
  {
   "cell_type": "code",
   "execution_count": 10,
   "metadata": {
    "colab": {
     "base_uri": "https://localhost:8080/"
    },
    "id": "RA4LRKM3BFqN",
    "outputId": "a2e96994-738d-496a-ed65-ff355d9b346a"
   },
   "outputs": [
    {
     "name": "stdout",
     "output_type": "stream",
     "text": [
      "[[ 2]\n",
      " [ 7]\n",
      " [12]\n",
      " [17]]\n",
      "[ 2  7 12 17]\n"
     ]
    }
   ],
   "source": [
    "# column 가져오기\n",
    "print(B[:, 1:2]) # dim 유지\n",
    "print(B[:, 1])   # dim 변경 # element만 가져"
   ]
  },
  {
   "cell_type": "code",
   "execution_count": 11,
   "metadata": {
    "id": "uXQ6woq1CAi8"
   },
   "outputs": [],
   "source": [
    "B = np.arange(20).reshape([5,4])\n",
    "# B[[0,1,3],[0,2]] 불가능해"
   ]
  },
  {
   "cell_type": "code",
   "execution_count": 12,
   "metadata": {
    "colab": {
     "base_uri": "https://localhost:8080/"
    },
    "id": "jdq1w9KPCI57",
    "outputId": "6907efda-78ab-40fc-bfc0-bd55bfcca2bb"
   },
   "outputs": [
    {
     "data": {
      "text/plain": [
       "array([[ 0,  2],\n",
       "       [ 4,  6],\n",
       "       [12, 14]])"
      ]
     },
     "execution_count": 12,
     "metadata": {},
     "output_type": "execute_result"
    }
   ],
   "source": [
    "B[[0,1,3]][:,[0,2]] # step by step으로 추출해야해"
   ]
  },
  {
   "cell_type": "markdown",
   "metadata": {
    "id": "YYsFCGc3DKFQ"
   },
   "source": [
    "(3) Broadcasting"
   ]
  },
  {
   "cell_type": "markdown",
   "metadata": {
    "id": "yGFKIipcGwRV"
   },
   "source": [
    "**Broadcasting** :\n",
    "\n",
    "1) Rule 1 : 차원이 다르다\n",
    "차원이 낮은 shape에 좌측에 1을 패딩\n",
    "ex) (3,) -> (1,3), [1,2,3] -> [[1,2,3]]\n",
    "\n",
    "2) Rule 2 : shape이 다르다\n",
    "shape이 1인 것을 늘려 다른 shape에 맞춘다.\n",
    "ex) (1,3) + (2,1) -> (1->2,3) + (2,1->3)"
   ]
  },
  {
   "cell_type": "code",
   "execution_count": 13,
   "metadata": {
    "colab": {
     "base_uri": "https://localhost:8080/"
    },
    "id": "EY7mfSWnCa9D",
    "outputId": "9cc92d98-b525-46ac-9ca4-36d51bcaf0b6"
   },
   "outputs": [
    {
     "data": {
      "text/plain": [
       "array([[2, 4, 6],\n",
       "       [5, 7, 9]])"
      ]
     },
     "execution_count": 13,
     "metadata": {},
     "output_type": "execute_result"
    }
   ],
   "source": [
    "A = np.array([[1,2,3],[4,5,6]])\n",
    "B = np.array([1,2,3])\n",
    "A + B\n",
    "# B가 [1,2,3] -> [[1,2,3]] (Rule 1: 패딩해 dimension 맞춰줘)\n",
    "# [[1,2,3]] -> [[1,2,3],[1,2,3]] (Rule 2: shape이 1인 것을 늘려 shape 맞춰줘)"
   ]
  },
  {
   "cell_type": "markdown",
   "metadata": {
    "id": "dM4fG0HzIJjc"
   },
   "source": [
    "axis = 0 : column 별로 // axis = 1 : row 별로"
   ]
  },
  {
   "cell_type": "code",
   "execution_count": 14,
   "metadata": {
    "colab": {
     "base_uri": "https://localhost:8080/"
    },
    "id": "a7NlRsuhHxML",
    "outputId": "7749099b-558b-4bbd-b453-e1e427885f42"
   },
   "outputs": [
    {
     "name": "stdout",
     "output_type": "stream",
     "text": [
      "[[0.12781553 0.18274252 0.40129224]\n",
      " [0.29638551 0.89875122 0.64193235]]\n",
      "2.5489193628856763\n",
      "[0.42420103 1.08149373 1.04322459]\n",
      "[0.71185028 1.83706908]\n",
      "0.1278155277835875\n",
      "[0.12781553 0.18274252 0.40129224]\n"
     ]
    }
   ],
   "source": [
    "a = np.random.random((2,3))\n",
    "print(a)\n",
    "print(a.sum())\n",
    "print(a.sum(axis=0)) # column sum\n",
    "print(a.sum(axis=1)) # row sum\n",
    "print(a.min())\n",
    "print(a.min(axis=0)) # column min"
   ]
  },
  {
   "cell_type": "code",
   "execution_count": 15,
   "metadata": {
    "colab": {
     "base_uri": "https://localhost:8080/"
    },
    "id": "bDeN1ekOJOoG",
    "outputId": "7fa0b36f-3764-4770-9113-ec537ceb07ac"
   },
   "outputs": [
    {
     "name": "stdout",
     "output_type": "stream",
     "text": [
      "[ 2  6  7 10 11 15]\n",
      "[[2 4 1]\n",
      " [5 5 5]]\n"
     ]
    }
   ],
   "source": [
    "A = np.array([[2,4,1],\n",
    "              [3,1,4]])\n",
    "print(A.cumsum())\n",
    "print(A.cumsum(axis=0))"
   ]
  },
  {
   "cell_type": "code",
   "execution_count": 16,
   "metadata": {
    "colab": {
     "base_uri": "https://localhost:8080/"
    },
    "id": "IQL9COQyJi2k",
    "outputId": "21880561-dd46-486f-ac85-1480e9130b1c"
   },
   "outputs": [
    {
     "data": {
      "text/plain": [
       "array([[ -3.,  -2.,   2.,   0.,  -1.,   0.,   4.],\n",
       "       [-17., -14.,  -6.,   5.,  -6.,  18.,  20.]])"
      ]
     },
     "execution_count": 16,
     "metadata": {},
     "output_type": "execute_result"
    }
   ],
   "source": [
    "# example\n",
    "Car = np.array([[1,2,6,4,3,4,8],\n",
    "                [10,13,21,32,21,45,47]])\n",
    "City_mean = Car.mean(axis=1) # row별로의 평균. (2,)의 크기\n",
    "# Car - [4, 27] : [2,7]에서 [2,]를 빼는건 error -> (2,7)에서 (1,2) 빼면 불가능\n",
    "# Car - [[4],[27]] : (2,7) 에서 (2,1) 빼는건 broadcasting 이루어져 가능\n",
    "Car - City_mean.reshape([2,1])"
   ]
  },
  {
   "cell_type": "markdown",
   "metadata": {
    "id": "YZlUEQaEKrrl"
   },
   "source": [
    "(4) Multi array"
   ]
  },
  {
   "cell_type": "code",
   "execution_count": 17,
   "metadata": {
    "colab": {
     "base_uri": "https://localhost:8080/"
    },
    "id": "VqoC-4fiKt4j",
    "outputId": "76ed04a6-4161-46b6-baf2-4728d65fdbdc"
   },
   "outputs": [
    {
     "data": {
      "text/plain": [
       "(1, 2, 4)"
      ]
     },
     "execution_count": 17,
     "metadata": {},
     "output_type": "execute_result"
    }
   ],
   "source": [
    "A = np.array([[[10,20,30,40],[50,60,70,80]]])\n",
    "A.shape"
   ]
  },
  {
   "cell_type": "code",
   "execution_count": 18,
   "metadata": {
    "colab": {
     "base_uri": "https://localhost:8080/"
    },
    "id": "Y0r8vC-SL51s",
    "outputId": "97e1e24a-0e47-4926-b8dd-d226b5c34686"
   },
   "outputs": [
    {
     "data": {
      "text/plain": [
       "70"
      ]
     },
     "execution_count": 18,
     "metadata": {},
     "output_type": "execute_result"
    }
   ],
   "source": [
    "A[0,1,2] # 70"
   ]
  },
  {
   "cell_type": "code",
   "execution_count": 19,
   "metadata": {
    "colab": {
     "base_uri": "https://localhost:8080/"
    },
    "id": "2AJO_2WJL0JW",
    "outputId": "506d76b6-938d-4d70-c3a9-89118b673c69"
   },
   "outputs": [
    {
     "data": {
      "text/plain": [
       "(1, 4, 2)"
      ]
     },
     "execution_count": 19,
     "metadata": {},
     "output_type": "execute_result"
    }
   ],
   "source": [
    "B = np.array([[[10,20],[30,40],[50,60],[70,80]]])\n",
    "B.shape"
   ]
  },
  {
   "cell_type": "code",
   "execution_count": 20,
   "metadata": {
    "colab": {
     "base_uri": "https://localhost:8080/"
    },
    "id": "Pow6gssEMAG-",
    "outputId": "c527426a-114f-4cf9-d5fb-c245543d9647"
   },
   "outputs": [
    {
     "data": {
      "text/plain": [
       "60"
      ]
     },
     "execution_count": 20,
     "metadata": {},
     "output_type": "execute_result"
    }
   ],
   "source": [
    "B[0,2,1]"
   ]
  },
  {
   "cell_type": "markdown",
   "metadata": {
    "id": "GsF1CFNHMjuW"
   },
   "source": [
    "(5) Multi array part 2"
   ]
  },
  {
   "cell_type": "code",
   "execution_count": 21,
   "metadata": {
    "colab": {
     "base_uri": "https://localhost:8080/"
    },
    "id": "cyE7NCb6Mm0E",
    "outputId": "a53d1134-efa5-4dbd-a0aa-50d63b5e0fe1"
   },
   "outputs": [
    {
     "data": {
      "text/plain": [
       "(2, 2, 4)"
      ]
     },
     "execution_count": 21,
     "metadata": {},
     "output_type": "execute_result"
    }
   ],
   "source": [
    "A = np.array([[[1,2,3,4],[5,6,7,8]],\n",
    "              [[10,20,30,40],[50,60,70,80]]])\n",
    "A.shape"
   ]
  },
  {
   "cell_type": "code",
   "execution_count": 22,
   "metadata": {
    "colab": {
     "base_uri": "https://localhost:8080/"
    },
    "id": "tvT7b0DheGlP",
    "outputId": "bcbd961b-3262-478d-d67a-8deb892f0fc8"
   },
   "outputs": [
    {
     "data": {
      "text/plain": [
       "array([[ 1,  5],\n",
       "       [10, 50]])"
      ]
     },
     "execution_count": 22,
     "metadata": {},
     "output_type": "execute_result"
    }
   ],
   "source": [
    "A[:,:,0]"
   ]
  },
  {
   "cell_type": "code",
   "execution_count": 23,
   "metadata": {
    "colab": {
     "base_uri": "https://localhost:8080/"
    },
    "id": "DjHvglkze707",
    "outputId": "892016c1-c774-46a4-88e5-a3665c50abf9"
   },
   "outputs": [
    {
     "data": {
      "text/plain": [
       "array([[[ 1],\n",
       "        [ 5]],\n",
       "\n",
       "       [[10],\n",
       "        [50]]])"
      ]
     },
     "execution_count": 23,
     "metadata": {},
     "output_type": "execute_result"
    }
   ],
   "source": [
    "A[:,:,:1]"
   ]
  },
  {
   "cell_type": "code",
   "execution_count": 24,
   "metadata": {
    "colab": {
     "base_uri": "https://localhost:8080/"
    },
    "id": "QfzXZ2BOfAdy",
    "outputId": "9e580f38-caa8-42ad-a280-c7f28969a0c4"
   },
   "outputs": [
    {
     "data": {
      "text/plain": [
       "array([[1, 2, 3, 4],\n",
       "       [5, 6, 7, 8]])"
      ]
     },
     "execution_count": 24,
     "metadata": {},
     "output_type": "execute_result"
    }
   ],
   "source": [
    "A[0,:,:]"
   ]
  },
  {
   "cell_type": "code",
   "execution_count": 25,
   "metadata": {
    "colab": {
     "base_uri": "https://localhost:8080/"
    },
    "id": "s1kNZDQEfCXe",
    "outputId": "5e006184-3111-4ace-8690-ab729a994b8f"
   },
   "outputs": [
    {
     "data": {
      "text/plain": [
       "array([[[1, 2, 3, 4],\n",
       "        [5, 6, 7, 8]]])"
      ]
     },
     "execution_count": 25,
     "metadata": {},
     "output_type": "execute_result"
    }
   ],
   "source": [
    "A[:1,:,:]"
   ]
  },
  {
   "cell_type": "code",
   "execution_count": 29,
   "metadata": {},
   "outputs": [
    {
     "data": {
      "text/plain": [
       "(2, 3, 4)"
      ]
     },
     "execution_count": 29,
     "metadata": {},
     "output_type": "execute_result"
    }
   ],
   "source": [
    "A = np.array([[[340,300,100,120],[270,250,150,110],[370,350,250,120]],\n",
    "              [[390,200,200,130],[370,290,140,140],[470,390,240,150]]])\n",
    "A.shape              "
   ]
  },
  {
   "cell_type": "code",
   "execution_count": 31,
   "metadata": {},
   "outputs": [
    {
     "data": {
      "text/plain": [
       "array([[ 860,  780, 1090],\n",
       "       [ 920,  940, 1250]])"
      ]
     },
     "execution_count": 31,
     "metadata": {},
     "output_type": "execute_result"
    }
   ],
   "source": [
    "A.sum(axis=2) # each person each year -> axis=2 (4개 각각 합하도록)"
   ]
  },
  {
   "cell_type": "code",
   "execution_count": 32,
   "metadata": {},
   "outputs": [
    {
     "data": {
      "text/plain": [
       "array([[730, 500, 300, 250],\n",
       "       [640, 540, 290, 250],\n",
       "       [840, 740, 490, 270]])"
      ]
     },
     "execution_count": 32,
     "metadata": {},
     "output_type": "execute_result"
    }
   ],
   "source": [
    "A.sum(axis=0) # person 방향으로 더해라 # year, item별로"
   ]
  },
  {
   "cell_type": "code",
   "execution_count": 33,
   "metadata": {},
   "outputs": [
    {
     "data": {
      "text/plain": [
       "array([[ 980,  900,  500,  350],\n",
       "       [1230,  880,  580,  420]])"
      ]
     },
     "execution_count": 33,
     "metadata": {},
     "output_type": "execute_result"
    }
   ],
   "source": [
    "A.sum(axis=1)"
   ]
  },
  {
   "cell_type": "markdown",
   "metadata": {},
   "source": [
    "(6) Joining array"
   ]
  },
  {
   "cell_type": "code",
   "execution_count": 34,
   "metadata": {},
   "outputs": [],
   "source": [
    "A = np.array([[1,2,3],[10,20,30]])\n",
    "B = np.array([[4,5,6],[40,50,60]])"
   ]
  },
  {
   "cell_type": "markdown",
   "metadata": {},
   "source": [
    "np.concatenate : dimension이 바뀌지 않는다!"
   ]
  },
  {
   "cell_type": "code",
   "execution_count": 36,
   "metadata": {},
   "outputs": [
    {
     "data": {
      "text/plain": [
       "array([[ 1,  2,  3],\n",
       "       [10, 20, 30],\n",
       "       [ 4,  5,  6],\n",
       "       [40, 50, 60]])"
      ]
     },
     "execution_count": 36,
     "metadata": {},
     "output_type": "execute_result"
    }
   ],
   "source": [
    "np.concatenate((A, B), axis=0) # 아래로 붙여 shape에서 행 수의 합 # (2,3) + (2,3) => (4,3)"
   ]
  },
  {
   "cell_type": "code",
   "execution_count": 37,
   "metadata": {},
   "outputs": [
    {
     "data": {
      "text/plain": [
       "array([[ 1,  2,  3,  4,  5,  6],\n",
       "       [10, 20, 30, 40, 50, 60]])"
      ]
     },
     "execution_count": 37,
     "metadata": {},
     "output_type": "execute_result"
    }
   ],
   "source": [
    "np.concatenate((A, B), axis=1) # (2,3) + (2,3) => (2,6)"
   ]
  },
  {
   "cell_type": "markdown",
   "metadata": {},
   "source": [
    "np.stack : dimension 증가!"
   ]
  },
  {
   "cell_type": "code",
   "execution_count": 42,
   "metadata": {},
   "outputs": [],
   "source": [
    "a = np.array([[1,2],[3,4]])\n",
    "b = np.array([[5,6],[7,8]])"
   ]
  },
  {
   "cell_type": "code",
   "execution_count": 41,
   "metadata": {},
   "outputs": [
    {
     "data": {
      "text/plain": [
       "array([[[1, 2],\n",
       "        [3, 4]],\n",
       "\n",
       "       [[5, 6],\n",
       "        [7, 8]]])"
      ]
     },
     "execution_count": 41,
     "metadata": {},
     "output_type": "execute_result"
    }
   ],
   "source": [
    "np.stack((a,b), axis=0) # (1,2,2) + (1,2,2) => (2,2,2)"
   ]
  },
  {
   "cell_type": "code",
   "execution_count": 40,
   "metadata": {},
   "outputs": [
    {
     "data": {
      "text/plain": [
       "array([[[1, 2],\n",
       "        [5, 6]],\n",
       "\n",
       "       [[3, 4],\n",
       "        [7, 8]]])"
      ]
     },
     "execution_count": 40,
     "metadata": {},
     "output_type": "execute_result"
    }
   ],
   "source": [
    "np.stack((a,b), axis=1) # (2,1,2) + (2,1,2) => (2,2,2)"
   ]
  },
  {
   "cell_type": "code",
   "execution_count": 43,
   "metadata": {},
   "outputs": [
    {
     "data": {
      "text/plain": [
       "array([[[1, 2],\n",
       "        [5, 6]],\n",
       "\n",
       "       [[3, 4],\n",
       "        [7, 8]]])"
      ]
     },
     "execution_count": 43,
     "metadata": {},
     "output_type": "execute_result"
    }
   ],
   "source": [
    "# np.stack((a,b), axis=1)과 동일한 과정\n",
    "a_r = a.reshape((2,1,2)) # axis=1 부분을 1로 하고 reshape한 것을 concat해\n",
    "b_r = b.reshape((2,1,2))\n",
    "np.concatenate((a_r, b_r), axis=1)"
   ]
  }
 ],
 "metadata": {
  "colab": {
   "provenance": []
  },
  "kernelspec": {
   "display_name": "Python 3 (ipykernel)",
   "language": "python",
   "name": "python3"
  },
  "language_info": {
   "codemirror_mode": {
    "name": "ipython",
    "version": 3
   },
   "file_extension": ".py",
   "mimetype": "text/x-python",
   "name": "python",
   "nbconvert_exporter": "python",
   "pygments_lexer": "ipython3",
   "version": "3.12.7"
  }
 },
 "nbformat": 4,
 "nbformat_minor": 4
}
