{
 "cells": [
  {
   "cell_type": "code",
   "execution_count": 1,
   "id": "d69d0d8e",
   "metadata": {
    "scrolled": true
   },
   "outputs": [
    {
     "name": "stdout",
     "output_type": "stream",
     "text": [
      "Requirement already satisfied: torch in c:\\users\\annyu\\anaconda3\\lib\\site-packages (2.5.1)\n",
      "Requirement already satisfied: filelock in c:\\users\\annyu\\anaconda3\\lib\\site-packages (from torch) (3.13.1)\n",
      "Requirement already satisfied: typing-extensions>=4.8.0 in c:\\users\\annyu\\anaconda3\\lib\\site-packages (from torch) (4.11.0)\n",
      "Requirement already satisfied: setuptools in c:\\users\\annyu\\anaconda3\\lib\\site-packages (from torch) (75.1.0)\n",
      "Collecting sympy==1.13.1 (from torch)\n",
      "  Downloading sympy-1.13.1-py3-none-any.whl.metadata (12 kB)\n",
      "Requirement already satisfied: networkx in c:\\users\\annyu\\anaconda3\\lib\\site-packages (from torch) (3.3)\n",
      "Requirement already satisfied: jinja2 in c:\\users\\annyu\\anaconda3\\lib\\site-packages (from torch) (3.1.4)\n",
      "Requirement already satisfied: fsspec in c:\\users\\annyu\\anaconda3\\lib\\site-packages (from torch) (2024.6.1)\n",
      "Requirement already satisfied: mpmath<1.4,>=1.1.0 in c:\\users\\annyu\\anaconda3\\lib\\site-packages (from sympy==1.13.1->torch) (1.3.0)\n",
      "Requirement already satisfied: MarkupSafe>=2.0 in c:\\users\\annyu\\anaconda3\\lib\\site-packages (from jinja2->torch) (2.1.3)\n",
      "Downloading sympy-1.13.1-py3-none-any.whl (6.2 MB)\n",
      "   ---------------------------------------- 0.0/6.2 MB ? eta -:--:--\n",
      "   ------ --------------------------------- 1.0/6.2 MB 5.6 MB/s eta 0:00:01\n",
      "   --------------- ------------------------ 2.4/6.2 MB 5.8 MB/s eta 0:00:01\n",
      "   ----------------------- ---------------- 3.7/6.2 MB 5.9 MB/s eta 0:00:01\n",
      "   ------------------------------ --------- 4.7/6.2 MB 5.9 MB/s eta 0:00:01\n",
      "   -------------------------------------- - 6.0/6.2 MB 6.0 MB/s eta 0:00:01\n",
      "   ---------------------------------------- 6.2/6.2 MB 5.7 MB/s eta 0:00:00\n",
      "Installing collected packages: sympy\n",
      "  Attempting uninstall: sympy\n",
      "    Found existing installation: sympy 1.13.2\n",
      "    Uninstalling sympy-1.13.2:\n",
      "      Successfully uninstalled sympy-1.13.2\n",
      "Successfully installed sympy-1.13.1\n"
     ]
    }
   ],
   "source": [
    "!pip install torch"
   ]
  },
  {
   "cell_type": "code",
   "execution_count": 3,
   "id": "a3023402",
   "metadata": {},
   "outputs": [],
   "source": [
    "import torch"
   ]
  },
  {
   "cell_type": "code",
   "execution_count": 4,
   "id": "e0247b03",
   "metadata": {},
   "outputs": [],
   "source": [
    "A = torch.tensor([[1,2,3],[4,5,6]])"
   ]
  },
  {
   "cell_type": "code",
   "execution_count": 10,
   "id": "153ca6d8",
   "metadata": {},
   "outputs": [
    {
     "name": "stdout",
     "output_type": "stream",
     "text": [
      "torch.Size([2, 3])\n",
      "2\n",
      "cpu\n",
      "torch.int64\n"
     ]
    }
   ],
   "source": [
    "print(A.shape)\n",
    "print(A.ndim)\n",
    "print(A.device)\n",
    "print(A.dtype) # torch.int64"
   ]
  },
  {
   "cell_type": "code",
   "execution_count": 12,
   "id": "c14aab69",
   "metadata": {},
   "outputs": [
    {
     "name": "stdout",
     "output_type": "stream",
     "text": [
      "torch.float32\n"
     ]
    }
   ],
   "source": [
    "B = torch.tensor([[1,2,3],[4,5,6.0]])\n",
    "print(B.dtype) # torch.float64"
   ]
  },
  {
   "cell_type": "code",
   "execution_count": 14,
   "id": "96845e96",
   "metadata": {},
   "outputs": [
    {
     "data": {
      "text/plain": [
       "tensor([[3, 0, 0],\n",
       "        [0, 2, 0],\n",
       "        [0, 0, 5]])"
      ]
     },
     "execution_count": 14,
     "metadata": {},
     "output_type": "execute_result"
    }
   ],
   "source": [
    "# torch.diag([3,2,5]) # error # input이 tensor이어야해\n",
    "torch.diag(torch.tensor([3,2,5]))"
   ]
  },
  {
   "cell_type": "code",
   "execution_count": 16,
   "id": "c45749ff",
   "metadata": {},
   "outputs": [
    {
     "data": {
      "text/plain": [
       "tensor([[2., 2., 2.],\n",
       "        [2., 2., 2.],\n",
       "        [2., 2., 2.]])"
      ]
     },
     "execution_count": 16,
     "metadata": {},
     "output_type": "execute_result"
    }
   ],
   "source": [
    "A = torch.ones((3,2))\n",
    "B = torch.ones((2,3))\n",
    "torch.matmul(A, B) # A@B"
   ]
  },
  {
   "cell_type": "code",
   "execution_count": 18,
   "id": "45774e50",
   "metadata": {},
   "outputs": [
    {
     "data": {
      "text/plain": [
       "tensor([[ 1,  2,  3,  4,  5,  6],\n",
       "        [10, 20, 30, 40, 50, 60]])"
      ]
     },
     "execution_count": 18,
     "metadata": {},
     "output_type": "execute_result"
    }
   ],
   "source": [
    "A = torch.tensor([[1,2,3],[10,20,30]])\n",
    "B = torch.tensor([[4,5,6],[40,50,60]])\n",
    "torch.cat((A,B), axis=0) # 아래로 붙여 # (4,3)\n",
    "torch.cat((A,B), axis=1) # (2,6)"
   ]
  },
  {
   "cell_type": "markdown",
   "id": "c5a3a2ad-bf52-4f60-8f1b-f7e987456d29",
   "metadata": {},
   "source": [
    "(5) Datasets and Dataloader"
   ]
  },
  {
   "cell_type": "code",
   "execution_count": 119,
   "id": "1e5e0a1f-2bb1-4bc8-9e8a-81af1940d0bd",
   "metadata": {},
   "outputs": [],
   "source": [
    "from torch.utils.data import TensorDataset, DataLoader"
   ]
  },
  {
   "cell_type": "code",
   "execution_count": 121,
   "id": "6bd4de92-c1fe-42e1-b29e-beeca061e2c8",
   "metadata": {},
   "outputs": [
    {
     "data": {
      "text/plain": [
       "tensor([[ 1.0000,  5.0000],\n",
       "        [-1.0000,  2.3000],\n",
       "        [ 1.1000,  3.0000],\n",
       "        [-0.5000, 10.0000],\n",
       "        [-3.0000,  2.5000]])"
      ]
     },
     "execution_count": 121,
     "metadata": {},
     "output_type": "execute_result"
    }
   ],
   "source": [
    "x = torch.tensor([[1.0, 5.0],\n",
    "                  [-1.0, 2.3],\n",
    "                  [1.1, 3.0],\n",
    "                  [-0.5, 10.0],\n",
    "                  [-3.0, 2.5]])\n",
    "x"
   ]
  },
  {
   "cell_type": "code",
   "execution_count": 123,
   "id": "9dbd6b63-1cdc-470e-bae4-77f361f5712f",
   "metadata": {},
   "outputs": [
    {
     "data": {
      "text/plain": [
       "tensor([5.0000, 1.0000, 3.0000, 5.5000, 1.3000])"
      ]
     },
     "execution_count": 123,
     "metadata": {},
     "output_type": "execute_result"
    }
   ],
   "source": [
    "y = torch.tensor([5.0, 1.0, 3.0, 5.5, 1.3])\n",
    "y"
   ]
  },
  {
   "cell_type": "code",
   "execution_count": 125,
   "id": "1aa2f4f7-1abb-4bad-ac07-1bf2e61ff7f6",
   "metadata": {},
   "outputs": [],
   "source": [
    "mydata = TensorDataset(x,y) # mydata를 불러줘 하면 볼 수 없어 # 인자로는 tensor만 넣을 수 있어!"
   ]
  },
  {
   "cell_type": "code",
   "execution_count": 127,
   "id": "9c68c2b1-1a41-4847-8eb6-25ee3ce8a64d",
   "metadata": {},
   "outputs": [
    {
     "data": {
      "text/plain": [
       "(tensor([1., 5.]), tensor(5.))"
      ]
     },
     "execution_count": 127,
     "metadata": {},
     "output_type": "execute_result"
    }
   ],
   "source": [
    "mydata[0] # 0번째 사람의 x와 y"
   ]
  },
  {
   "cell_type": "code",
   "execution_count": 129,
   "id": "3c153391-a388-4d10-89d8-acabcd42010b",
   "metadata": {},
   "outputs": [
    {
     "data": {
      "text/plain": [
       "(tensor([[ 1.0000,  5.0000],\n",
       "         [-1.0000,  2.3000]]),\n",
       " tensor([5., 1.]))"
      ]
     },
     "execution_count": 129,
     "metadata": {},
     "output_type": "execute_result"
    }
   ],
   "source": [
    "mydata[0:2]"
   ]
  },
  {
   "cell_type": "code",
   "execution_count": 131,
   "id": "ff7dd80b-c092-4fc9-a701-c79533dafe44",
   "metadata": {},
   "outputs": [],
   "source": [
    "xx, yy = mydata[0:3]"
   ]
  },
  {
   "cell_type": "code",
   "execution_count": 133,
   "id": "fdd50d44-14fb-430e-b477-3c05f72d2402",
   "metadata": {},
   "outputs": [
    {
     "data": {
      "text/plain": [
       "tensor([[ 1.0000,  5.0000],\n",
       "        [-1.0000,  2.3000],\n",
       "        [ 1.1000,  3.0000]])"
      ]
     },
     "execution_count": 133,
     "metadata": {},
     "output_type": "execute_result"
    }
   ],
   "source": [
    "xx # 설명변수"
   ]
  },
  {
   "cell_type": "code",
   "execution_count": 135,
   "id": "bbcb90e9-a83f-4070-b870-1a49854f5d33",
   "metadata": {},
   "outputs": [
    {
     "data": {
      "text/plain": [
       "tensor([5., 1., 3.])"
      ]
     },
     "execution_count": 135,
     "metadata": {},
     "output_type": "execute_result"
    }
   ],
   "source": [
    "yy # 반응변수"
   ]
  },
  {
   "cell_type": "code",
   "execution_count": 137,
   "id": "de585266-38ae-49fa-b9db-10e3473e2f2d",
   "metadata": {},
   "outputs": [
    {
     "data": {
      "text/plain": [
       "5"
      ]
     },
     "execution_count": 137,
     "metadata": {},
     "output_type": "execute_result"
    }
   ],
   "source": [
    "len(mydata)"
   ]
  },
  {
   "cell_type": "code",
   "execution_count": 147,
   "id": "529b0588-2a5d-4055-948b-8259161d80f3",
   "metadata": {},
   "outputs": [],
   "source": [
    "myloader = DataLoader(mydata, batch_size=2, shuffle=True) # batch는 묶음수, shuffle는 랜덤섞을지"
   ]
  },
  {
   "cell_type": "code",
   "execution_count": 149,
   "id": "664049ed-9b71-4cf0-bc48-329efc1ed33e",
   "metadata": {},
   "outputs": [
    {
     "name": "stdout",
     "output_type": "stream",
     "text": [
      "tensor([1.3000, 3.0000])\n",
      "tensor([5.0000, 5.5000])\n",
      "tensor([1.])\n"
     ]
    }
   ],
   "source": [
    "for xx, yy in myloader:\n",
    "    print(yy)"
   ]
  },
  {
   "cell_type": "markdown",
   "id": "66d3cfaf-dc7f-46e2-b696-786ec7c02e01",
   "metadata": {},
   "source": [
    "(6) Derivatives"
   ]
  },
  {
   "cell_type": "code",
   "execution_count": 160,
   "id": "ae3284af-6b35-49a1-b253-9df19b987e24",
   "metadata": {},
   "outputs": [
    {
     "data": {
      "text/plain": [
       "tensor(7.)"
      ]
     },
     "execution_count": 160,
     "metadata": {},
     "output_type": "execute_result"
    }
   ],
   "source": [
    "x = torch.tensor(1., requires_grad=True)\n",
    "y = 2*x**3 + x\n",
    "y.backward()\n",
    "x.grad # x로 미분한 값"
   ]
  },
  {
   "cell_type": "code",
   "execution_count": 162,
   "id": "19a9b131-ffd9-409f-88f6-565a4bea5ea5",
   "metadata": {},
   "outputs": [
    {
     "data": {
      "text/plain": [
       "tensor(12.)"
      ]
     },
     "execution_count": 162,
     "metadata": {},
     "output_type": "execute_result"
    }
   ],
   "source": [
    "x = torch.tensor(2.0, requires_grad =True)\n",
    "y = x**3+3\n",
    "y.backward()\n",
    "x.grad"
   ]
  },
  {
   "cell_type": "code",
   "execution_count": 164,
   "id": "18a875a4-ed83-42f8-a94e-15ed08773ec6",
   "metadata": {},
   "outputs": [
    {
     "name": "stdout",
     "output_type": "stream",
     "text": [
      "tensor(6.) tensor(4.)\n"
     ]
    }
   ],
   "source": [
    "x = torch.tensor(1., requires_grad=True)\n",
    "y = torch.tensor(2., requires_grad=True)\n",
    "f = 2*x**3 + y**2\n",
    "f.backward()\n",
    "print(x.grad, y.grad) # df/dx에 x 값 대입, df/dy에 y 대"
   ]
  },
  {
   "cell_type": "code",
   "execution_count": 166,
   "id": "8ca85b16-ce39-4ac2-8018-8f6597da0bca",
   "metadata": {},
   "outputs": [
    {
     "name": "stdout",
     "output_type": "stream",
     "text": [
      "tensor(6.) tensor(6.) tensor(1.)\n"
     ]
    }
   ],
   "source": [
    "x = torch.tensor(1.0, requires_grad=True)\n",
    "y = torch.tensor(1.0, requires_grad=True)\n",
    "z = torch.tensor(2.0, requires_grad=True)\n",
    "f = 3*x**2 + 6*y + z # f=11을 계산하고, df/dx, df/dy, df/dz를 계산할 준비를 함.\n",
    "f.backward() # df/dx=6, df/dy=6, df/dz=1을 계산하고, 어딘가에 저장함.\n",
    "print(x.grad, y.grad, z.grad)"
   ]
  },
  {
   "cell_type": "code",
   "execution_count": 172,
   "id": "51ffaa46-2776-4a48-95c4-543d4cc884d7",
   "metadata": {},
   "outputs": [
    {
     "data": {
      "text/plain": [
       "tensor(140.5988)"
      ]
     },
     "execution_count": 172,
     "metadata": {},
     "output_type": "execute_result"
    }
   ],
   "source": [
    "x = torch.tensor(1.0, requires_grad=True)\n",
    "y = 2*x**3 + x\n",
    "z = torch.exp(y)\n",
    "z.backward()\n",
    "x.grad # (6*x**2 + 1) * exp(2*x**3+x) 에 1 대입"
   ]
  },
  {
   "cell_type": "markdown",
   "id": "cca3de5f-b3f5-4a14-8513-53ddff0789fe",
   "metadata": {},
   "source": [
    "(7) Partial differentiation and Gradients"
   ]
  },
  {
   "cell_type": "code",
   "execution_count": 196,
   "id": "662d290b-f4f7-43f5-9928-8ad1e6d44721",
   "metadata": {},
   "outputs": [
    {
     "data": {
      "text/plain": [
       "tensor([ 34., 816.])"
      ]
     },
     "execution_count": 196,
     "metadata": {},
     "output_type": "execute_result"
    }
   ],
   "source": [
    "x = torch.tensor([1.0, 2.0], requires_grad=True)\n",
    "f = (x[0] + 2 * x[1] **3)**2 # f 계산하고, df/dx 미분 준\n",
    "f.backward()\n",
    "x.grad"
   ]
  },
  {
   "cell_type": "code",
   "execution_count": 198,
   "id": "5bc09087-57c0-4ae6-8898-d1a73ef74357",
   "metadata": {},
   "outputs": [
    {
     "data": {
      "text/plain": [
       "tensor(-0.7736)"
      ]
     },
     "execution_count": 198,
     "metadata": {},
     "output_type": "execute_result"
    }
   ],
   "source": [
    "t = torch.tensor(1.0, requires_grad=True)\n",
    "g = torch.stack([torch.sin(t), torch.cos(t)])\n",
    "f = g[0]**2 + 2*g[1]\n",
    "f.backward()\n",
    "t.grad"
   ]
  },
  {
   "cell_type": "code",
   "execution_count": 200,
   "id": "b2bd5a6f-888d-409d-a847-7e8704cf28c1",
   "metadata": {},
   "outputs": [
    {
     "data": {
      "text/plain": [
       "tensor([-1.2233, -0.7735])"
      ]
     },
     "execution_count": 200,
     "metadata": {},
     "output_type": "execute_result"
    }
   ],
   "source": [
    "t = torch.tensor([1.0, 2.0], requires_grad=True)\n",
    "g = torch.stack([torch.sin(t[0])+torch.cos(t[1]), torch.cos(t[0])])\n",
    "f = g[0]**2 + 2*g[1]\n",
    "f.backward()\n",
    "t.grad"
   ]
  }
 ],
 "metadata": {
  "kernelspec": {
   "display_name": "Python 3 (ipykernel)",
   "language": "python",
   "name": "python3"
  },
  "language_info": {
   "codemirror_mode": {
    "name": "ipython",
    "version": 3
   },
   "file_extension": ".py",
   "mimetype": "text/x-python",
   "name": "python",
   "nbconvert_exporter": "python",
   "pygments_lexer": "ipython3",
   "version": "3.12.7"
  }
 },
 "nbformat": 4,
 "nbformat_minor": 5
}
