{
 "cells": [
  {
   "cell_type": "markdown",
   "id": "f392c529-1f27-4006-b2f6-48ecba5224fd",
   "metadata": {},
   "source": [
    "# Example 1: Simulation data\n",
    "\n",
    "You have the following data\n",
    "\n",
    "```\n",
    "X = torch.tensor([27, 35, 17, 51, 12.0, 26, 50, 52, 13])\n",
    "\n",
    "Y = torch.tensor([1, 1, 0, 1, 0, 0,1,0,1])\n",
    "```\n",
    "where `X` is an income variable and `Y` is an indication of default.\n",
    "\n",
    "\n",
    "You want to model\n",
    "\n",
    "$$Y_i \\sim {\\rm Ber}(P_i)$$\n",
    "\n",
    "Answer the following questions:\n",
    "\n",
    "i. [Hand written] Properly model $P_i$ as a function of $X_i$.\n",
    "\n",
    "ii. [Hand written] Write down a proper loss function ready for the gradient descent.\n",
    "\n",
    "iii. [Torch] Use Pytorch to find the parameters.\n",
    "\n"
   ]
  },
  {
   "cell_type": "code",
   "execution_count": 23,
   "id": "dd880fbc-1bac-43d2-8d68-898ef028e807",
   "metadata": {
    "scrolled": true
   },
   "outputs": [
    {
     "data": {
      "text/plain": [
       "torch.Size([9, 2])"
      ]
     },
     "execution_count": 23,
     "metadata": {},
     "output_type": "execute_result"
    }
   ],
   "source": [
    "import torch\n",
    "\n",
    "X = torch.tensor([27, 35, 17, 51, 12.0, 26, 50, 52, 13]).reshape([-1,1])\n",
    "Y = torch.tensor([1, 1, 0, 1, 0, 0,1,0,1]).reshape([-1,1])\n",
    "\n",
    "ux = torch.mean(X)\n",
    "stdx = torch.std(X)\n",
    "XX = (X-ux)/stdx\n",
    "ones = torch.ones([XX.shape[0],1])\n",
    "XX = torch.concat([ones, XX], axis=1)\n",
    "XX.shape"
   ]
  },
  {
   "cell_type": "code",
   "execution_count": 33,
   "id": "1d67fb10-9a0b-4900-a986-33e5922af310",
   "metadata": {},
   "outputs": [
    {
     "name": "stderr",
     "output_type": "stream",
     "text": [
      "C:\\Users\\annyu\\AppData\\Local\\Temp\\ipykernel_20292\\3798791162.py:4: UserWarning: To copy construct from a tensor, it is recommended to use sourceTensor.clone().detach() or sourceTensor.clone().detach().requires_grad_(True), rather than torch.tensor(sourceTensor).\n",
      "  beta = torch.tensor(torch.randn([2,1]), requires_grad=True)\n"
     ]
    },
    {
     "data": {
      "text/plain": [
       "tensor([[0.2441],\n",
       "        [0.6085]], requires_grad=True)"
      ]
     },
     "execution_count": 33,
     "metadata": {},
     "output_type": "execute_result"
    },
    {
     "data": {
      "image/png": "[encoded data removed]",
      "text/plain": [
       "<Figure size 640x480 with 1 Axes>"
      ]
     },
     "metadata": {},
     "output_type": "display_data"
    }
   ],
   "source": [
    "def forward(x):\n",
    "    return torch.sigmoid(x @ beta)\n",
    "\n",
    "beta = torch.tensor(torch.randn([2,1]), requires_grad=True)\n",
    "\n",
    "def loss_ftn(phat, y):\n",
    "    m = torch.distributions.bernoulli.Bernoulli(phat)\n",
    "    return -torch.mean(m.log_prob(y))\n",
    "\n",
    "def loss_ftn(phat, y):\n",
    "    return -torch.mean(y * torch.log(phat) + (1-y) * torch.log(1-phat))\n",
    "\n",
    "lr = 0.1\n",
    "history=[]\n",
    "epochs = 1000\n",
    "optimizer = torch.optim.SGD([beta], lr=lr)\n",
    "\n",
    "for i in range(epochs):\n",
    "    phat = forward(XX)\n",
    "    loss = loss_ftn(phat, Y)\n",
    "    optimizer.zero_grad()\n",
    "    loss.backward()\n",
    "    optimizer.step()\n",
    "    history.append(loss.item())\n",
    "\n",
    "import matplotlib.pyplot as plt\n",
    "plt.plot(history)\n",
    "\n",
    "beta"
   ]
  },
  {
   "cell_type": "markdown",
   "id": "34143158-d7f1-4cda-ab32-31d3bf916efd",
   "metadata": {},
   "source": [
    "iv. [Torch] You are given two new people with $X_6=10$ and $X_7=50$. Find the default rate of these people."
   ]
  },
  {
   "cell_type": "code",
   "execution_count": 46,
   "id": "4d9803cf-c29d-45d1-b312-b1820701ba9c",
   "metadata": {},
   "outputs": [
    {
     "data": {
      "text/plain": [
       "tensor([[0.3649],\n",
       "        [0.7180]], grad_fn=<SigmoidBackward0>)"
      ]
     },
     "execution_count": 46,
     "metadata": {},
     "output_type": "execute_result"
    }
   ],
   "source": [
    "myX = torch.tensor([[10],\n",
    "                   [50]], dtype=torch.float32)\n",
    "myX = (myX - ux) / stdx\n",
    "ones = torch.ones([2,1])\n",
    "myX = torch.concat([ones, myX], axis=1)\n",
    "forward(myX)"
   ]
  },
  {
   "cell_type": "markdown",
   "id": "f8f43d46-ca0e-4d82-86f2-7c3ff9be278c",
   "metadata": {},
   "source": [
    "v. calculate test accuracy"
   ]
  },
  {
   "cell_type": "code",
   "execution_count": null,
   "id": "6be55997-faa1-43a0-814d-4c9202dc7c31",
   "metadata": {},
   "outputs": [],
   "source": [
    "Correct = 0\n",
    "n_test = len(test_loader.dataset)\n",
    "\n",
    "for xx, yy in test_loader:\n",
    "    phat = forward(xx)\n",
    "    yhat = (phat > 0.5)*1.0\n",
    "    Correct += torch.sum(yhat==yy)\n",
    "\n",
    "Correct/n_test"
   ]
  },
  {
   "cell_type": "code",
   "execution_count": null,
   "id": "52345fa8-9dbc-4309-9abf-aa5028f6500d",
   "metadata": {},
   "outputs": [],
   "source": [
    "LOSS = 0\n",
    "n_test = len(test_loader.dataset)\n",
    "for xx, yy in test_loader:\n",
    "  phat = forward(xx)\n",
    "  loss = loss_ftn(phat, yy)\n",
    "  LOSS += loss*len(xx)\n",
    "\n",
    "# Test negative log-likelihood\n",
    "LOSS"
   ]
  }
 ],
 "metadata": {
  "kernelspec": {
   "display_name": "Python 3 (ipykernel)",
   "language": "python",
   "name": "python3"
  },
  "language_info": {
   "codemirror_mode": {
    "name": "ipython",
    "version": 3
   },
   "file_extension": ".py",
   "mimetype": "text/x-python",
   "name": "python",
   "nbconvert_exporter": "python",
   "pygments_lexer": "ipython3",
   "version": "3.12.7"
  }
 },
 "nbformat": 4,
 "nbformat_minor": 5
}
